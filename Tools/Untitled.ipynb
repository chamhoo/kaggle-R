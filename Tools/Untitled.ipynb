{
 "cells": [
  {
   "cell_type": "code",
   "execution_count": 1,
   "metadata": {},
   "outputs": [],
   "source": [
    "import gc\n",
    "import json\n",
    "import numpy as np\n",
    "import pandas as pd\n",
    "from pandas.io.json import json_normalize\n",
    "\n",
    "import warnings\n",
    "warnings.filterwarnings('ignore')\n",
    "\n",
    "def fuck():\n",
    "    n = 1\n",
    "    errorchunk = pd.read_csv('/home/leechh/data/R/test_v2.csv', nrows=5000, chunksize=100)\n",
    "    for subchunk in errorchunk:    \n",
    "        if n == 41:\n",
    "            df = subchunk.copy()\n",
    "        n = n+1\n",
    "    return df\n",
    "\n",
    "def checkerrorplace():\n",
    "    n = 1\n",
    "    errorchunk = pd.read_csv('/home/chamhaolee/data/R/train_v2.csv', chunksize=1)\n",
    "    for subchunk in errorchunk:\n",
    "        try:\n",
    "            col = subchunk.hits.apply(replacehits)\n",
    "            n = n + 1\n",
    "            del col, subchunk\n",
    "        except json.JSONDecodeError as e:\n",
    "            print(e,' in: ',n)\n",
    "\n",
    "def todict(dic, key, value):\n",
    "    if key in dic:\n",
    "        dic[key].append(value)\n",
    "    else:\n",
    "        dic[key] = [value]\n",
    "    return dic\n",
    "\n",
    "\n",
    "def resolve_json(hitsdic, hits_json, key='NoneName'):\n",
    "    if type(hits_json) == list:\n",
    "        if len(hits_json) == 0:\n",
    "            pass\n",
    "        else:\n",
    "            for subjson in hits_json:\n",
    "                hitsdic = resolve_json(hitsdic, subjson)\n",
    "    elif type(hits_json) == dict:\n",
    "        for i in hits_json.keys():\n",
    "            hitsdic = resolve_json(hitsdic, hits_json[i],i)\n",
    "    else:\n",
    "        hitsdic = todict(hitsdic, key, hits_json)\n",
    "    return hitsdic\n",
    "\n",
    "\n",
    "def replacehits(x):\n",
    "    dic = {}\n",
    "    return resolve_json(dic, json.loads(x.replace('\\'','\\\"'). \\\n",
    "                                        replace('TRUE','true'). \\\n",
    "                                        replace('True','true'). \\\n",
    "                                        replace('FALSE','false'). \\\n",
    "                                        replace('False','false'). \\\n",
    "                                        replace(', \\\"',', !&~'). \\\n",
    "                                        replace('\\\", ','!&~, '). \\\n",
    "                                        replace('\\\": ','!&~: '). \\\n",
    "                                        replace(': \\\"',': !&~'). \\\n",
    "                                        replace(' {\\\"',' {!&~'). \\\n",
    "                                        replace('\\\"}, ','!&~}, '). \\\n",
    "                                        replace('[{\\\"','[{!&~'). \\\n",
    "                                        replace('\\\"}]','!&~}]'). \\\n",
    "                                        replace('\\\"','_'). \\\n",
    "                                        replace('!&~','\\\"'). \\\n",
    "                                        encode('gbk','ignore'). \\\n",
    "                                        decode('utf-8','ignore'). \\\n",
    "                                        replace('\\\\','')))\n",
    "\n",
    "\n",
    "def replace(x):\n",
    "    return  json.loads(x)\n",
    "\n",
    "\n",
    "def load_df(csv_path, nrows=None, chunksize=10_000, percent=100):\n",
    "    n=1\n",
    "    df_list = []\n",
    "    JSON_COLUMNS = ['device', 'hits','geoNetwork', 'totals', 'trafficSource']\n",
    "    chunk = pd.read_csv(csv_path,\n",
    "                        nrows=nrows, \n",
    "                        chunksize=chunksize, \n",
    "                        dtype={'fullVisitorId': 'str'}) # Important!!\n",
    "    for subchunk in chunk:\n",
    "        for column in JSON_COLUMNS:\n",
    "            if column == 'hits':\n",
    "                column_as_df = json_normalize(subchunk[column].apply(replacehits))\n",
    "            else:\n",
    "                column_as_df = json_normalize(subchunk[column].apply(replace))\n",
    "            column_as_df.columns = [f'{column}_{subcolumn}' for subcolumn in column_as_df.columns]\n",
    "            subchunk.drop(column, axis=1, inplace=True)\n",
    "            subchunk = subchunk.reset_index(drop=True).merge(column_as_df,\n",
    "                                           right_index=True,\n",
    "                                           left_index=True)\n",
    "        # Drop the repeated feature.\n",
    "        '''\n",
    "        for i in subchunk.columns:\n",
    "            if sum(subchunk[i] == subchunk[i][0]) == subchunk.shape[0]:\n",
    "                subchunk.drop([i], axis=True, inplace=True)\n",
    "        '''\n",
    "        n = n+1\n",
    "        df_list.append(subchunk.astype('str'))\n",
    "        del column_as_df, subchunk\n",
    "    return pd.concat(df_list, ignore_index=True)"
   ]
  },
  {
   "cell_type": "code",
   "execution_count": 2,
   "metadata": {},
   "outputs": [],
   "source": [
    "test = load_df('/home/chamhaolee/data/R/test_v2.csv',nrows=None, chunksize=10000)"
   ]
  },
  {
   "cell_type": "code",
   "execution_count": 4,
   "metadata": {},
   "outputs": [
    {
     "data": {
      "text/plain": [
       "(401589, 146)"
      ]
     },
     "execution_count": 4,
     "metadata": {},
     "output_type": "execute_result"
    }
   ],
   "source": [
    "test.shape"
   ]
  },
  {
   "cell_type": "code",
   "execution_count": 5,
   "metadata": {},
   "outputs": [],
   "source": [
    "test.to_feather('/home/chamhaolee/tempfile/R/test_v2_convert.feather')"
   ]
  },
  {
   "cell_type": "code",
   "execution_count": null,
   "metadata": {},
   "outputs": [],
   "source": [
    "test.shape"
   ]
  },
  {
   "cell_type": "code",
   "execution_count": null,
   "metadata": {},
   "outputs": [],
   "source": []
  }
 ],
 "metadata": {
  "kernelspec": {
   "display_name": "Python 3",
   "language": "python",
   "name": "python3"
  },
  "language_info": {
   "codemirror_mode": {
    "name": "ipython",
    "version": 3
   },
   "file_extension": ".py",
   "mimetype": "text/x-python",
   "name": "python",
   "nbconvert_exporter": "python",
   "pygments_lexer": "ipython3",
   "version": "3.6.4"
  }
 },
 "nbformat": 4,
 "nbformat_minor": 2
}
