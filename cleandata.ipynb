{
 "cells": [
  {
   "cell_type": "code",
   "execution_count": 1,
   "metadata": {},
   "outputs": [],
   "source": [
    "import json\n",
    "import os\n",
    "import numpy as np\n",
    "import pandas as pd\n",
    "import matplotlib.pyplot as plt\n",
    "from pandas.io.json import json_normalize\n",
    "from sklearn.preprocessing import LabelEncoder"
   ]
  },
  {
   "cell_type": "code",
   "execution_count": 2,
   "metadata": {},
   "outputs": [],
   "source": [
    "def load_df(csv_path, nrows=None):\n",
    "    JSON_COLUMNS = ['device', 'geoNetwork', 'totals', 'trafficSource']\n",
    "    df = pd.read_csv(csv_path, \n",
    "                     converters={column: json.loads for column in JSON_COLUMNS}, \n",
    "                     dtype={'fullVisitorId': 'str'}, # Important!!\n",
    "                     nrows=nrows)\n",
    "    for column in JSON_COLUMNS:\n",
    "        column_as_df = json_normalize(df[column])\n",
    "        column_as_df.columns = [f\"{column}_{subcolumn}\" for subcolumn in column_as_df.columns]\n",
    "        df = df.drop(column, axis=1).merge(column_as_df, right_index=True, left_index=True)\n",
    "    print(f\"Loaded {os.path.basename(csv_path)}. Shape: {df.shape}\")\n",
    "    return df\n",
    "\n",
    "\n",
    "def isgooglemc(day,num):\n",
    "    if day in num.index.values:\n",
    "        val = num[day]\n",
    "    else:\n",
    "        val = 0\n",
    "    return val"
   ]
  },
  {
   "cell_type": "code",
   "execution_count": 3,
   "metadata": {},
   "outputs": [],
   "source": [
    "def cleandata(path,isdf):\n",
    "    df = pd.read_feather(path)\n",
    "    #Time\n",
    "    df['date'] = pd.to_datetime(df.date, format='%Y%m%d')\n",
    "    df['week'] = df.date.apply(lambda t: t.dayofweek)\n",
    "    df['day'] = df.date.apply(lambda t: t.dayofyear)\n",
    "    #drop repeated feature\n",
    "    for i in df.columns:\n",
    "        if sum(df[i] == df[i][0]) == df.shape[0]:\n",
    "            df.drop([i], axis=1, inplace=True)\n",
    "    #geoNetwork\n",
    "    df['isnotavailable'] = df.geoNetwork_city == 'not available in demo dataset'\n",
    "    df['unknown'] = df.geoNetwork_networkDomain == 'unknown.unknown'\n",
    "    df['notset'] = df.geoNetwork_networkDomain == '(not set)'\n",
    "    df['notsetcity'] = df.geoNetwork_city == '(not set)'\n",
    "    df['notsetmetro'] = df.geoNetwork_metro == '(not set)'\n",
    "    df['isUS'] = df.geoNetwork_country == 'United States'\n",
    "    #totals\n",
    "    df.dropna(axis=0, inplace=True, subset=['totals_pageviews'])\n",
    "    df['totals_bounces'] = df.totals_bounces.fillna(0).astype('float')\n",
    "    df['totals_newVisits'] = df.totals_newVisits.fillna(0).astype('float')\n",
    "    df['totals_hits'] = df.totals_hits.astype('float')\n",
    "    df['totals_pageviews'] = df.totals_pageviews.astype('float')\n",
    "    #trafficSource\n",
    "    df['havegclid'] = df['trafficSource_adwordsClickInfo.gclId'].notnull()\n",
    "    df['istruedirect'] = (df.trafficSource_isTrueDirect.notnull()) & (df.channelGrouping != 'Direct') \n",
    "    df['path'] = df.trafficSource_source +  df.trafficSource_referralPath.fillna('') \n",
    "    df['isgoogleplex'] = df.path == 'mall.googleplex.com/'\n",
    "\n",
    "    adcontentidx = df.trafficSource_adContent == 'Google Merchandise Collection'\n",
    "    num = df[adcontentidx].day.value_counts()\n",
    "    df['keyadcontent'] = df.day.apply(isgooglemc, args=[num])\n",
    "    if isdf == True:\n",
    "        df['holiidx'] = (df.date > '2016-11-24') & (df.date < '2016-12-25')\n",
    "        df.drop(['trafficSource_campaignCode'],axis=1,inplace=True)\n",
    "    else:\n",
    "        df['holiidx'] = (df.date > '2017-11-23') & (df.date < '2017-12-25')   \n",
    "    #drop\n",
    "    droplist = [\n",
    "        'sessionId',\n",
    "        'date',\n",
    "        'device_isMobile',\n",
    "        'visitStartTime',\n",
    "        'geoNetwork_city',\n",
    "        'geoNetwork_region',\n",
    "        'geoNetwork_metro',\n",
    "        'geoNetwork_country',\n",
    "        'geoNetwork_networkDomain',\n",
    "        'trafficSource_adContent',\n",
    "        'trafficSource_adwordsClickInfo.gclId',\n",
    "        'trafficSource_medium',\n",
    "        'trafficSource_adwordsClickInfo.isVideoAd',\n",
    "        'trafficSource_adwordsClickInfo.adNetworkType',\n",
    "        'trafficSource_adwordsClickInfo.page',\n",
    "        'trafficSource_adwordsClickInfo.slot',\n",
    "        'trafficSource_keyword',\n",
    "        'trafficSource_campaign',\n",
    "        'trafficSource_source',\n",
    "        'trafficSource_referralPath',\n",
    "        'trafficSource_isTrueDirect',\n",
    "        'path',\n",
    "        'visitId',\n",
    "        'fullVisitorId'\n",
    "    ]\n",
    "    df.drop(droplist, axis=1, inplace=True)\n",
    "    return df\n",
    "    "
   ]
  },
  {
   "cell_type": "code",
   "execution_count": 4,
   "metadata": {},
   "outputs": [
    {
     "name": "stderr",
     "output_type": "stream",
     "text": [
      "/home/leechh/anaconda3/envs/DM/lib/python3.6/site-packages/pandas/io/feather_format.py:112: FutureWarning: `nthreads` argument is deprecated, pass `use_threads` instead\n",
      "  return feather.read_dataframe(path, nthreads=nthreads)\n"
     ]
    }
   ],
   "source": [
    "trainpath = '/home/leechh/桌面/tempfile/R/train.feather'\n",
    "\n",
    "train = cleandata(trainpath,True)"
   ]
  },
  {
   "cell_type": "code",
   "execution_count": 5,
   "metadata": {},
   "outputs": [],
   "source": [
    "testpath = '/home/leechh/桌面/tempfile/R/test.feather'\n",
    "\n",
    "test = cleandata(testpath,False)"
   ]
  },
  {
   "cell_type": "code",
   "execution_count": 6,
   "metadata": {},
   "outputs": [],
   "source": [
    "#device\n",
    "devicelist = ['device_browser', 'device_operatingSystem']\n",
    "for i in devicelist:\n",
    "    deviceidx = train[i].value_counts().index[10:-1].values\n",
    "    train[i] = train.device_browser.replace(deviceidx,'other')\n",
    "    test[i] = test.device_browser.replace(deviceidx,'other')"
   ]
  },
  {
   "cell_type": "code",
   "execution_count": 7,
   "metadata": {},
   "outputs": [],
   "source": [
    "idx = train.totals_transactionRevenue.notnull()\n",
    "train = train[idx]"
   ]
  },
  {
   "cell_type": "code",
   "execution_count": 8,
   "metadata": {},
   "outputs": [],
   "source": [
    "target = train.totals_transactionRevenue\n",
    "train.drop(['totals_transactionRevenue'], axis=1, inplace=True)"
   ]
  },
  {
   "cell_type": "code",
   "execution_count": 9,
   "metadata": {},
   "outputs": [],
   "source": [
    "shorttarget = target.astype('float')/(10**6)"
   ]
  },
  {
   "cell_type": "code",
   "execution_count": 10,
   "metadata": {},
   "outputs": [],
   "source": [
    "lelist = ['channelGrouping',\n",
    "          'device_browser',\n",
    "          'device_deviceCategory',\n",
    "          'device_operatingSystem',\n",
    "          'geoNetwork_continent',\n",
    "          'geoNetwork_subContinent'\n",
    "         ]\n",
    "\n",
    "for col in lelist:\n",
    "    le = LabelEncoder()\n",
    "    fitlabel = le.fit(list(train[col].values)+list(test[col].values))\n",
    "    train[col] = le.transform(list(train[col].values))\n",
    "    test[col] = le.transform(list(test[col].values))"
   ]
  },
  {
   "cell_type": "code",
   "execution_count": 11,
   "metadata": {
    "scrolled": true
   },
   "outputs": [],
   "source": [
    "train = train.astype(dtype='float')\n",
    "test = test.astype(dtype='float')"
   ]
  },
  {
   "cell_type": "code",
   "execution_count": 16,
   "metadata": {},
   "outputs": [
    {
     "data": {
      "text/plain": [
       "752        37.86\n",
       "753       306.67\n",
       "799        68.03\n",
       "802        26.25\n",
       "859       574.15\n",
       "866         8.38\n",
       "893       395.73\n",
       "910        24.08\n",
       "922        35.48\n",
       "925        35.08\n",
       "930        81.50\n",
       "942       546.32\n",
       "971        63.84\n",
       "974       117.34\n",
       "976        43.71\n",
       "999        34.48\n",
       "1000       35.39\n",
       "1008      339.03\n",
       "1020       33.67\n",
       "1022      635.50\n",
       "1026      103.24\n",
       "1027      305.47\n",
       "1037        5.15\n",
       "1041       90.85\n",
       "1054       10.59\n",
       "1055       25.68\n",
       "1056      338.97\n",
       "2774      593.91\n",
       "3161       44.79\n",
       "3268       30.39\n",
       "           ...  \n",
       "899951     43.43\n",
       "903089     44.79\n",
       "903118    175.80\n",
       "903122     87.99\n",
       "903167     14.37\n",
       "903168    155.97\n",
       "903189     75.18\n",
       "903194    350.00\n",
       "903201    135.92\n",
       "903211    159.98\n",
       "903222     23.18\n",
       "903228     22.97\n",
       "903234    463.60\n",
       "903235     79.99\n",
       "903243     76.78\n",
       "903249     12.99\n",
       "903256     34.97\n",
       "903259     91.08\n",
       "903262     46.11\n",
       "903271     85.98\n",
       "903275     55.16\n",
       "903284     51.89\n",
       "903285    119.96\n",
       "903291     19.19\n",
       "903298    111.98\n",
       "903302    335.26\n",
       "903305    599.95\n",
       "903314     30.75\n",
       "903315     69.39\n",
       "903317     74.99\n",
       "Name: totals_transactionRevenue, Length: 11515, dtype: float64"
      ]
     },
     "execution_count": 16,
     "metadata": {},
     "output_type": "execute_result"
    }
   ],
   "source": [
    "shorttarget"
   ]
  },
  {
   "cell_type": "code",
   "execution_count": 17,
   "metadata": {},
   "outputs": [],
   "source": [
    "np.save('/home/leechh/tempfile/R/x_reg.npy',train.values)\n",
    "np.save('/home/leechh/tempfile/R/y_reg.npy',shorttarget.values)"
   ]
  }
 ],
 "metadata": {
  "kernelspec": {
   "display_name": "Python 3",
   "language": "python",
   "name": "python3"
  },
  "language_info": {
   "codemirror_mode": {
    "name": "ipython",
    "version": 3
   },
   "file_extension": ".py",
   "mimetype": "text/x-python",
   "name": "python",
   "nbconvert_exporter": "python",
   "pygments_lexer": "ipython3",
   "version": "3.6.6"
  }
 },
 "nbformat": 4,
 "nbformat_minor": 2
}
