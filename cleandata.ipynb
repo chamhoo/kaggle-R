{
 "cells": [
  {
   "cell_type": "code",
   "execution_count": null,
   "metadata": {},
   "outputs": [],
   "source": [
    "import numpy\n",
    "import pandas\n",
    "from pandas.io.json import json_normalize"
   ]
  },
  {
   "cell_type": "code",
   "execution_count": null,
   "metadata": {},
   "outputs": [],
   "source": [
    "def load_df(csv_path, nrows=None):\n",
    "    JSON_COLUMNS = ['device', 'geoNetwork', 'totals', 'trafficSource']\n",
    "    df = pd.read_csv(csv_path, \n",
    "                     converters={column: json.loads for column in JSON_COLUMNS}, \n",
    "                     dtype={'fullVisitorId': 'str'}, # Important!!\n",
    "                     nrows=nrows)\n",
    "    for column in JSON_COLUMNS:\n",
    "        column_as_df = json_normalize(df[column])\n",
    "        column_as_df.columns = [f\"{column}_{subcolumn}\" for subcolumn in column_as_df.columns]\n",
    "        df = df.drop(column, axis=1).merge(column_as_df, right_index=True, left_index=True)\n",
    "    print(f\"Loaded {os.path.basename(csv_path)}. Shape: {df.shape}\")\n",
    "    return df"
   ]
  },
  {
   "cell_type": "code",
   "execution_count": null,
   "metadata": {},
   "outputs": [],
   "source": [
    "def cleandata(path,isdf):\n",
    "    df = pd.read_hdf(df,datatype)\n",
    "    \n",
    "    #Time\n",
    "    if isdf == True:\n",
    "        holiidx = (df.date > '2016-11-24') & (df.date < '2016-12-25')\n",
    "    else:\n",
    "        holiidx = (df.date > '2017-11-23') & (df.date < '2017-12-25')   \n",
    "    df['date'] = pd.to_datetime(df.date, format='%Y%m%d')\n",
    "    df['week'] = df.date.apply(lambda t: t.dayofweek)\n",
    "    df['holiday'] = holiidx\n",
    "    \n",
    "    #drop repeated feature\n",
    "    for i in df.columns:\n",
    "        if sum(df[i] == df[i][0]) == df.shape[0]:\n",
    "            df.drop([i], axis=1, inplace=True)\n",
    "            \n",
    "    #device\n",
    "    devicelist = ['device_browser', 'device_operatingSystem']\n",
    "    for i in devicelist:\n",
    "        deviceidx = df[i].value_counts().index[10:-1].values\n",
    "        df[i] = df.device_browser.replace(deviceidx,'other')\n",
    "        \n",
    "    #geoNetwork\n",
    "    df['is not available'] = df.geoNetwork_city == 'not available in demo dataset'\n",
    "    df['unknown'] = df.geoNetwork_networkDomain == 'unknown.unknown'\n",
    "    df['notset'] = df.geoNetwork_networkDomain == '(not set)'\n",
    "    df['notsetcity'] = df.geoNetwork_city == '(not set)'\n",
    "    df['notsetmetro'] = df.geoNetwork_metro == '(not set)'\n",
    "    df['isUS'] = df.df.geoNetwork_country == 'United States'\n",
    "    \n",
    "    #totals\n",
    "    df.dropna(axis=0, inplace=True, how=['totals_pageviews'])\n",
    "    df['totals_bounces'] = df.totals_bounces.fillna(0).astype('float')\n",
    "    df['totals_newVisits'] = df.totals_newVisits.fillna(0).astype('float')\n",
    "    df['totals_hits'] = df.totals_hits.astype('float')\n",
    "    df['totals_pageviews'] = df.totals_pageviews.astype('float')\n",
    "    \n",
    "    #trafficSource\n",
    "    adcontentidx = df.trafficSource_adContent == 'Google Merchandise Collection'\n",
    "    num = df[adcontentidx].date.value_counts()\n",
    "    df.date.apply()\n",
    "    \n",
    "    if isdf == True:\n",
    "        df.drop(['trafficSource_campaignCode'],axis=1,inplace=True)\n",
    "    else:\n",
    "        pass\n",
    "    \n",
    "    \n",
    "    #drop\n",
    "    droplist = [\n",
    "        'sessionId',\n",
    "        'socialEngagementType',\n",
    "        'visitStartTime',\n",
    "        'device_isMobile',\n",
    "        'geoNetwork_city',\n",
    "        'geoNetwork_region',\n",
    "        'geoNetwork_metro',\n",
    "        'geoNetwork_country',\n",
    "        'geoNetwork_networkDomain',\n",
    "        'trafficSource_adContent',\n",
    "        'trafficSource_adwordsClickInfo.gclId',\n",
    "        'trafficSource_medium',\n",
    "        'trafficSource_adwordsClickInfo.isVideoAd',\n",
    "        'trafficSource_adwordsClickInfo.adNetworkType',\n",
    "        'trafficSource_adwordsClickInfo.page',\n",
    "        'trafficSource_adwordsClickInfo.slot',\n",
    "        'trafficSource_keyword',\n",
    "        'trafficSource_campaign',\n",
    "    ]\n",
    "    df.drop(, axis=1, inplace=True)\n",
    "    "
   ]
  },
  {
   "cell_type": "code",
   "execution_count": null,
   "metadata": {},
   "outputs": [],
   "source": [
    "train = '/users/lichanghao/tempfile/train.h5'\n",
    "\n",
    "cleandata(train,True)"
   ]
  }
 ],
 "metadata": {
  "kernelspec": {
   "display_name": "Python 3",
   "language": "python",
   "name": "python3"
  },
  "language_info": {
   "codemirror_mode": {
    "name": "ipython",
    "version": 3
   },
   "file_extension": ".py",
   "mimetype": "text/x-python",
   "name": "python",
   "nbconvert_exporter": "python",
   "pygments_lexer": "ipython3",
   "version": "3.7.0"
  }
 },
 "nbformat": 4,
 "nbformat_minor": 2
}
