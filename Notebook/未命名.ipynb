{
 "cells": [
  {
   "cell_type": "code",
   "execution_count": 1,
   "metadata": {},
   "outputs": [],
   "source": [
    "import pandas as pd\n",
    "import numpy as np\n"
   ]
  },
  {
   "cell_type": "code",
   "execution_count": 20,
   "metadata": {},
   "outputs": [],
   "source": [
    "train = pd.read_csv('/home/leechh/tempfile/R/train_v2_after.csv',nrows=1000)\n",
    "test = pd.read_csv('/home/leechh/tempfile/R/test_v2_after.csv',nrows=1000)"
   ]
  },
  {
   "cell_type": "code",
   "execution_count": 21,
   "metadata": {},
   "outputs": [
    {
     "data": {
      "text/plain": [
       "(1000, 148)"
      ]
     },
     "execution_count": 21,
     "metadata": {},
     "output_type": "execute_result"
    }
   ],
   "source": [
    "train.shape"
   ]
  },
  {
   "cell_type": "code",
   "execution_count": 22,
   "metadata": {},
   "outputs": [
    {
     "data": {
      "text/plain": [
       "(1000, 147)"
      ]
     },
     "execution_count": 22,
     "metadata": {},
     "output_type": "execute_result"
    }
   ],
   "source": [
    "test.shape"
   ]
  },
  {
   "cell_type": "code",
   "execution_count": 11,
   "metadata": {},
   "outputs": [],
   "source": [
    "diff = []\n",
    "for i in train.columns:\n",
    "    if i not in test.columns:\n",
    "        diff.append(i)"
   ]
  },
  {
   "cell_type": "code",
   "execution_count": 8,
   "metadata": {},
   "outputs": [
    {
     "data": {
      "text/plain": [
       "Index(['Unnamed: 0', 'channelGrouping', 'customDimensions', 'date',\n",
       "       'device_browser', 'device_browserSize', 'device_browserVersion',\n",
       "       'device_deviceCategory', 'device_flashVersion', 'device_isMobile',\n",
       "       ...\n",
       "       'trafficSource_campaign', 'trafficSource_campaignCode',\n",
       "       'trafficSource_isTrueDirect', 'trafficSource_keyword',\n",
       "       'trafficSource_medium', 'trafficSource_referralPath',\n",
       "       'trafficSource_source', 'visitId', 'visitNumber', 'visitStartTime'],\n",
       "      dtype='object', length=148)"
      ]
     },
     "execution_count": 8,
     "metadata": {},
     "output_type": "execute_result"
    }
   ],
   "source": [
    "train.columns"
   ]
  },
  {
   "cell_type": "code",
   "execution_count": 10,
   "metadata": {},
   "outputs": [
    {
     "data": {
      "text/plain": [
       "Index(['Unnamed: 0', 'channelGrouping', 'customDimensions', 'date',\n",
       "       'device_browser', 'device_browserSize', 'device_browserVersion',\n",
       "       'device_deviceCategory', 'device_flashVersion', 'device_isMobile',\n",
       "       'device_language', 'device_mobileDeviceBranding',\n",
       "       'device_mobileDeviceInfo', 'device_mobileDeviceMarketingName',\n",
       "       'device_mobileDeviceModel', 'device_mobileInputSelector',\n",
       "       'device_operatingSystem', 'device_operatingSystemVersion',\n",
       "       'device_screenColors', 'device_screenResolution', 'fullVisitorId',\n",
       "       'geoNetwork_city', 'geoNetwork_cityId', 'geoNetwork_continent',\n",
       "       'geoNetwork_country', 'geoNetwork_latitude', 'geoNetwork_longitude',\n",
       "       'geoNetwork_metro', 'geoNetwork_networkDomain',\n",
       "       'geoNetwork_networkLocation', 'geoNetwork_region',\n",
       "       'geoNetwork_subContinent', 'hits_action_type', 'hits_affiliation',\n",
       "       'hits_contentGroup1', 'hits_contentGroup2', 'hits_contentGroup3',\n",
       "       'hits_contentGroup4', 'hits_contentGroup5',\n",
       "       'hits_contentGroupUniqueViews1'],\n",
       "      dtype='object')"
      ]
     },
     "execution_count": 10,
     "metadata": {},
     "output_type": "execute_result"
    }
   ],
   "source": [
    "test.columns[:40]"
   ]
  },
  {
   "cell_type": "code",
   "execution_count": 13,
   "metadata": {},
   "outputs": [
    {
     "data": {
      "text/plain": [
       "Index(['hits_contentGroupUniqueViews2', 'hits_contentGroupUniqueViews3',\n",
       "       'hits_currencyCode', 'hits_dataSource', 'hits_domContentLoadedTime',\n",
       "       'hits_domInteractiveTime', 'hits_domLatencyMetricsSample',\n",
       "       'hits_domainLookupTime', 'hits_eventAction', 'hits_eventCategory',\n",
       "       'hits_eventLabel', 'hits_exitScreenName',\n",
       "       'hits_hasSocialSourceReferral', 'hits_hitNumber', 'hits_hostname',\n",
       "       'hits_hour', 'hits_isClick', 'hits_isEntrance', 'hits_isExit',\n",
       "       'hits_isFatal', 'hits_isImpression', 'hits_isInteraction',\n",
       "       'hits_landingScreenName', 'hits_localProductPrice',\n",
       "       'hits_localProductRevenue', 'hits_localTransactionRevenue',\n",
       "       'hits_localTransactionShipping', 'hits_localTransactionTax',\n",
       "       'hits_minute', 'hits_option', 'hits_pageDownloadTime',\n",
       "       'hits_pageLoadSample', 'hits_pageLoadTime', 'hits_pagePath',\n",
       "       'hits_pagePathLevel1', 'hits_pagePathLevel2', 'hits_pagePathLevel3',\n",
       "       'hits_pagePathLevel4', 'hits_pageTitle', 'hits_previousContentGroup1'],\n",
       "      dtype='object')"
      ]
     },
     "execution_count": 13,
     "metadata": {},
     "output_type": "execute_result"
    }
   ],
   "source": [
    "test.columns[40:80]"
   ]
  },
  {
   "cell_type": "code",
   "execution_count": 14,
   "metadata": {},
   "outputs": [
    {
     "data": {
      "text/plain": [
       "Index(['hits_previousContentGroup2', 'hits_previousContentGroup3',\n",
       "       'hits_previousContentGroup4', 'hits_previousContentGroup5',\n",
       "       'hits_productBrand', 'hits_productCouponCode', 'hits_productListName',\n",
       "       'hits_productListPosition', 'hits_productPrice', 'hits_productQuantity',\n",
       "       'hits_productRevenue', 'hits_productSKU', 'hits_productVariant',\n",
       "       'hits_promoCreative', 'hits_promoId', 'hits_promoIsClick',\n",
       "       'hits_promoIsView', 'hits_promoName', 'hits_promoPosition',\n",
       "       'hits_redirectionTime', 'hits_referer', 'hits_screenDepth',\n",
       "       'hits_screenName', 'hits_searchCategory', 'hits_searchKeyword',\n",
       "       'hits_serverConnectionTime', 'hits_serverResponseTime',\n",
       "       'hits_socialInteractionNetworkAction', 'hits_socialNetwork',\n",
       "       'hits_speedMetricsSample', 'hits_step', 'hits_time',\n",
       "       'hits_transactionCoupon', 'hits_transactionId',\n",
       "       'hits_transactionRevenue', 'hits_transactionShipping',\n",
       "       'hits_transactionTax', 'hits_type', 'hits_v2ProductCategory',\n",
       "       'hits_v2ProductName'],\n",
       "      dtype='object')"
      ]
     },
     "execution_count": 14,
     "metadata": {},
     "output_type": "execute_result"
    }
   ],
   "source": [
    "test.columns[80:120]"
   ]
  },
  {
   "cell_type": "code",
   "execution_count": 15,
   "metadata": {},
   "outputs": [
    {
     "data": {
      "text/plain": [
       "Index(['socialEngagementType', 'totals_bounces', 'totals_hits',\n",
       "       'totals_newVisits', 'totals_pageviews', 'totals_sessionQualityDim',\n",
       "       'totals_timeOnSite', 'totals_totalTransactionRevenue',\n",
       "       'totals_transactionRevenue', 'totals_transactions', 'totals_visits',\n",
       "       'trafficSource_adContent',\n",
       "       'trafficSource_adwordsClickInfo.adNetworkType',\n",
       "       'trafficSource_adwordsClickInfo.criteriaParameters',\n",
       "       'trafficSource_adwordsClickInfo.gclId',\n",
       "       'trafficSource_adwordsClickInfo.isVideoAd',\n",
       "       'trafficSource_adwordsClickInfo.page',\n",
       "       'trafficSource_adwordsClickInfo.slot', 'trafficSource_campaign',\n",
       "       'trafficSource_isTrueDirect', 'trafficSource_keyword',\n",
       "       'trafficSource_medium', 'trafficSource_referralPath',\n",
       "       'trafficSource_source', 'visitId', 'visitNumber', 'visitStartTime'],\n",
       "      dtype='object')"
      ]
     },
     "execution_count": 15,
     "metadata": {},
     "output_type": "execute_result"
    }
   ],
   "source": [
    "test.columns[120:]"
   ]
  }
 ],
 "metadata": {
  "kernelspec": {
   "display_name": "Python 3",
   "language": "python",
   "name": "python3"
  },
  "language_info": {
   "codemirror_mode": {
    "name": "ipython",
    "version": 3
   },
   "file_extension": ".py",
   "mimetype": "text/x-python",
   "name": "python",
   "nbconvert_exporter": "python",
   "pygments_lexer": "ipython3",
   "version": "3.6.6"
  }
 },
 "nbformat": 4,
 "nbformat_minor": 2
}
