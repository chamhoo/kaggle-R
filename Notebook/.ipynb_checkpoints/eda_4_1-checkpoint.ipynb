{
 "cells": [
  {
   "cell_type": "code",
   "execution_count": 1,
   "metadata": {},
   "outputs": [],
   "source": [
    "%load_ext autoreload\n",
    "%autoreload 2\n",
    "\n",
    "import gc\n",
    "import time\n",
    "import feather\n",
    "import pandas as pd\n",
    "import numpy as np\n",
    "import matplotlib.pyplot as plt\n",
    "\n",
    "import warnings\n",
    "warnings.filterwarnings('ignore')\n",
    "\n",
    "import sys\n",
    "sys.path.append('/home/chamhaolee/code/kaggle-R/Tools/')\n",
    "from tools import *\n",
    "from plot import *"
   ]
  },
  {
   "cell_type": "code",
   "execution_count": 2,
   "metadata": {},
   "outputs": [],
   "source": [
    "fulldata = pd.concat([feather.read_dataframe('/home/chamhaolee/tempfile/R/train_v2_convert.feather'), \n",
    "                      feather.read_dataframe('/home/chamhaolee/tempfile/R/test_v2_convert.feather')], \n",
    "                     ignore_index=True).sort_values(['fullVisitorId','visitStartTime'])"
   ]
  },
  {
   "cell_type": "code",
   "execution_count": 3,
   "metadata": {},
   "outputs": [
    {
     "name": "stdout",
     "output_type": "stream",
     "text": [
      "fulldata shape: (2109926, 147)\n"
     ]
    }
   ],
   "source": [
    "print(f'fulldata shape: {fulldata.shape}')"
   ]
  },
  {
   "cell_type": "markdown",
   "metadata": {},
   "source": [
    "这个 EDA ，目的是来根据当次的会话数据来预测其是否会在一定时间内回访。\n",
    "* * *\n",
    "为了这个目的，首先建立一个特征followup，来找出每次会话之后，下次会话间隔的时间，如果之后再也没有访问，则为NaN。"
   ]
  },
  {
   "cell_type": "code",
   "execution_count": 4,
   "metadata": {},
   "outputs": [],
   "source": [
    "# 首先创建一个时间的feature，用来记录本次访问的日期\n",
    "fulldata['date'] = pd.to_datetime(fulldata.date,format='%Y%m%d')"
   ]
  },
  {
   "cell_type": "code",
   "execution_count": 5,
   "metadata": {},
   "outputs": [],
   "source": [
    "# eval visitNumber\n",
    "fulldata['visitNumber'] = fulldata.visitNumber.apply(strtolist)\n",
    "fulldata['visitStartTime'] = fulldata.visitStartTime.apply(strtolist)\n"
   ]
  },
  {
   "cell_type": "code",
   "execution_count": 6,
   "metadata": {},
   "outputs": [],
   "source": [
    "def diffdate(visitNumber, date, i):\n",
    "    try:\n",
    "        if visitNumber[i+1] > visitNumber[i]:\n",
    "            diff = abs((date[i+1] - date[i]).days)\n",
    "        else:\n",
    "            diff = np.nan\n",
    "    except:\n",
    "        diff = np.nan\n",
    "    return diff"
   ]
  },
  {
   "cell_type": "code",
   "execution_count": 8,
   "metadata": {},
   "outputs": [],
   "source": [
    "number = fulldata.visitNumber.tolist()\n",
    "date = fulldata.date.tolist()\n",
    "fulldata['difftime'] = [diffdate(number, date, i) for i in np.arange(fulldata.shape[0])]\n",
    "del number\n",
    "del date"
   ]
  },
  {
   "cell_type": "code",
   "execution_count": null,
   "metadata": {},
   "outputs": [],
   "source": []
  }
 ],
 "metadata": {
  "kernelspec": {
   "display_name": "Python 3",
   "language": "python",
   "name": "python3"
  },
  "language_info": {
   "codemirror_mode": {
    "name": "ipython",
    "version": 3
   },
   "file_extension": ".py",
   "mimetype": "text/x-python",
   "name": "python",
   "nbconvert_exporter": "python",
   "pygments_lexer": "ipython3",
   "version": "3.6.4"
  }
 },
 "nbformat": 4,
 "nbformat_minor": 2
}
