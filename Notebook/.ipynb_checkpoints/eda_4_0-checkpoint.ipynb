{
 "cells": [
  {
   "cell_type": "markdown",
   "metadata": {},
   "source": [
    "# Focus on V2\n",
    "* * *\n",
    "emmm~ 随着train_v2的开放，看来这个竞赛已经变成了另外一个问题。过去是根据浏览数据预测本次会话是否会购买，现在已经变成了根据用户之前的购买行为预测之后购买行为的一个时间序列问题。针对这个问题怎么构建特征，我有一些思考。我们可以试试首先构建一个模型，来根据当次的会话数据来预测其是否会在一定时间内回访，然后建立模型找出哪些回访者之后会产生购买行为，最后建立模型预测购买行为的金额是多少。"
   ]
  },
  {
   "cell_type": "markdown",
   "metadata": {},
   "source": [
    "首先建立三个EDA，用 eda4_1, eda4_2, eda4_3 命名"
   ]
  }
 ],
 "metadata": {
  "kernelspec": {
   "display_name": "Python 3",
   "language": "python",
   "name": "python3"
  },
  "language_info": {
   "codemirror_mode": {
    "name": "ipython",
    "version": 3
   },
   "file_extension": ".py",
   "mimetype": "text/x-python",
   "name": "python",
   "nbconvert_exporter": "python",
   "pygments_lexer": "ipython3",
   "version": "3.6.4"
  }
 },
 "nbformat": 4,
 "nbformat_minor": 2
}
