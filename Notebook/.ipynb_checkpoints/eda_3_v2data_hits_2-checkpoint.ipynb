{
 "cells": [
  {
   "cell_type": "code",
   "execution_count": 1,
   "metadata": {},
   "outputs": [],
   "source": [
    "%load_ext autoreload\n",
    "%autoreload 2\n",
    "\n",
    "import pandas as pd\n",
    "import numpy as np\n",
    "import matplotlib.pyplot as plt\n",
    "%matplotlib inline\n",
    "\n",
    "import warnings\n",
    "warnings.filterwarnings('ignore')\n",
    "\n",
    "import sys\n",
    "sys.path.append('/home/leechh/code/kaggle-R/Tools/')\n",
    "from tools import *\n",
    "from plot import *"
   ]
  },
  {
   "cell_type": "markdown",
   "metadata": {},
   "source": [
    "这组 EDA 的目的是清洗 hits"
   ]
  },
  {
   "cell_type": "markdown",
   "metadata": {},
   "source": [
    "# 0. Input and describe"
   ]
  },
  {
   "cell_type": "code",
   "execution_count": 2,
   "metadata": {},
   "outputs": [],
   "source": [
    "train = pd.read_feather('/home/leechh/tempfile/R/train_v2_cut.feather')"
   ]
  },
  {
   "cell_type": "code",
   "execution_count": 3,
   "metadata": {},
   "outputs": [
    {
     "data": {
      "text/plain": [
       "(170790, 148)"
      ]
     },
     "execution_count": 3,
     "metadata": {},
     "output_type": "execute_result"
    }
   ],
   "source": [
    "train.shape"
   ]
  },
  {
   "cell_type": "code",
   "execution_count": 4,
   "metadata": {},
   "outputs": [
    {
     "data": {
      "text/plain": [
       "Index(['hits_action_type', 'hits_affiliation', 'hits_contentGroup1',\n",
       "       'hits_contentGroup2', 'hits_contentGroup3', 'hits_contentGroup4',\n",
       "       'hits_contentGroup5', 'hits_contentGroupUniqueViews1',\n",
       "       'hits_contentGroupUniqueViews2', 'hits_contentGroupUniqueViews3',\n",
       "       'hits_currencyCode', 'hits_dataSource', 'hits_domContentLoadedTime',\n",
       "       'hits_domInteractiveTime', 'hits_domLatencyMetricsSample',\n",
       "       'hits_domainLookupTime', 'hits_eventAction', 'hits_eventCategory',\n",
       "       'hits_eventLabel', 'hits_exitScreenName',\n",
       "       'hits_hasSocialSourceReferral', 'hits_hitNumber', 'hits_hostname',\n",
       "       'hits_hour', 'hits_isClick', 'hits_isEntrance', 'hits_isExit',\n",
       "       'hits_isFatal', 'hits_isImpression', 'hits_isInteraction',\n",
       "       'hits_landingScreenName', 'hits_localProductPrice',\n",
       "       'hits_localProductRevenue', 'hits_localTransactionRevenue',\n",
       "       'hits_localTransactionShipping', 'hits_localTransactionTax',\n",
       "       'hits_minute', 'hits_option', 'hits_pageDownloadTime',\n",
       "       'hits_pageLoadSample', 'hits_pageLoadTime', 'hits_pagePath',\n",
       "       'hits_pagePathLevel1', 'hits_pagePathLevel2', 'hits_pagePathLevel3',\n",
       "       'hits_pagePathLevel4', 'hits_pageTitle', 'hits_previousContentGroup1',\n",
       "       'hits_previousContentGroup2', 'hits_previousContentGroup3',\n",
       "       'hits_previousContentGroup4', 'hits_previousContentGroup5',\n",
       "       'hits_productBrand', 'hits_productCouponCode', 'hits_productListName',\n",
       "       'hits_productListPosition', 'hits_productPrice', 'hits_productQuantity',\n",
       "       'hits_productRevenue', 'hits_productSKU', 'hits_productVariant',\n",
       "       'hits_promoCreative', 'hits_promoId', 'hits_promoIsClick',\n",
       "       'hits_promoIsView', 'hits_promoName', 'hits_promoPosition',\n",
       "       'hits_redirectionTime', 'hits_referer', 'hits_screenDepth',\n",
       "       'hits_screenName', 'hits_searchCategory', 'hits_searchKeyword',\n",
       "       'hits_serverConnectionTime', 'hits_serverResponseTime',\n",
       "       'hits_socialInteractionNetworkAction', 'hits_socialNetwork',\n",
       "       'hits_speedMetricsSample', 'hits_step', 'hits_time',\n",
       "       'hits_transactionCoupon', 'hits_transactionId',\n",
       "       'hits_transactionRevenue', 'hits_transactionShipping',\n",
       "       'hits_transactionTax', 'hits_type', 'hits_v2ProductCategory',\n",
       "       'hits_v2ProductName'],\n",
       "      dtype='object')"
      ]
     },
     "execution_count": 4,
     "metadata": {},
     "output_type": "execute_result"
    }
   ],
   "source": [
    "train.columns[32:120]"
   ]
  },
  {
   "cell_type": "markdown",
   "metadata": {},
   "source": [
    "### hits 全家福 :) ,以上就是全部的hits 特征了."
   ]
  },
  {
   "cell_type": "code",
   "execution_count": null,
   "metadata": {},
   "outputs": [],
   "source": [
    "# 将str转换为本来应该的格式\n",
    "for i in train.columns:\n",
    "    train[i] = train[i].apply(strtolist)"
   ]
  },
  {
   "cell_type": "code",
   "execution_count": null,
   "metadata": {},
   "outputs": [],
   "source": [
    "# find feak hits\n",
    "feaklist = feakhits(train.iloc[:,32:120])\n",
    "print(feaklist)"
   ]
  },
  {
   "cell_type": "code",
   "execution_count": null,
   "metadata": {},
   "outputs": [],
   "source": [
    "# 创建两个新的特征， realtarget, logtarget\n",
    "train['realtarget'] = train.totals_transactionRevenue/(10**6)\n",
    "train['logtarget'] = np.log1p(train.totals_transactionRevenue)"
   ]
  },
  {
   "cell_type": "markdown",
   "metadata": {},
   "source": [
    "# 1. 'hits_action_type' ......  'hits_contentGroupUniqueViews3'"
   ]
  },
  {
   "cell_type": "markdown",
   "metadata": {},
   "source": [
    "* **hits_action_type:** 操作类型。点击查看产品列表 = 1,浏览产品详情 = 2,向购物⻋车中添加产品 = 3,从购物⻋车中移除产品 = 4,结算 = 5,完成购买 = 6,购物退款= 7,结帐选项 = 8,未知 = 0。通常,此操作类型适用用于匹配中的所有产品,但存在以下例例外情况:当 hits.product.isImpression= TRUE 时,相应产品是产品操作发生时看到的产品展示(即“列表视图中的产品”)。\n",
    "\n",
    "* **hits_affiliation:** 传递到电子子商务跟踪代码的联属营销企业信息。\n",
    "\n",
    "* **hits_contentGroupX:** 媒体资源上的内容组。内容组是指一一类内容的集合,内容组可以体现由跟踪代码或⻚面标题/网址正则表达式匹配或者预定义规则所决定的逻辑结构。\n",
    "\n",
    "* **hits_contentGroupUniqueViewsX:** 内容组的唯一一身份浏览次数。不同会话中的内容组浏览均会计为内容组的唯一身份浏览。pagePath 和 pageTitle 均可用于确定内容组浏览的唯一一性。(索引 X 的范围为 1 到 5)\n"
   ]
  },
  {
   "cell_type": "code",
   "execution_count": null,
   "metadata": {},
   "outputs": [],
   "source": [
    "hitslist = ['hits_action_type', 'hits_affiliation', 'hits_contentGroup1',\n",
    "            'hits_contentGroup2', 'hits_contentGroup3', 'hits_contentGroupUniqueViews1',\n",
    "            'hits_contentGroupUniqueViews3']\n",
    "\n",
    "train[hitslist].head(5)"
   ]
  },
  {
   "cell_type": "code",
   "execution_count": null,
   "metadata": {},
   "outputs": [],
   "source": []
  },
  {
   "cell_type": "code",
   "execution_count": null,
   "metadata": {},
   "outputs": [],
   "source": [
    "for i in hitslist:\n",
    "    train[i].fillna('nan', inplace=True) "
   ]
  },
  {
   "cell_type": "markdown",
   "metadata": {},
   "source": [
    "###  **hits_action_type:** 操作类型。点击查看产品列表 = 1,浏览产品详情 = 2,向购物⻋车中添加产品 = 3,从购物⻋车中移除产品 = 4,结算 = 5,完成购买 = 6,购物退款= 7,结帐选项 = 8,未知 = 0。通常,此操作类型适用用于匹配中的所有产品,但存在以下例例外情况:当 hits.product.isImpression= TRUE 时,相应产品是产品操作发生时看到的产品展示(即“列表视图中的产品”)。\n"
   ]
  },
  {
   "cell_type": "code",
   "execution_count": null,
   "metadata": {
    "scrolled": false
   },
   "outputs": [],
   "source": [
    "plot_hits(train, hitslist[0])"
   ]
  },
  {
   "cell_type": "code",
   "execution_count": null,
   "metadata": {},
   "outputs": [],
   "source": [
    "describeinfo(train, hitslist[0])"
   ]
  },
  {
   "cell_type": "markdown",
   "metadata": {},
   "source": [
    "#### 建议： 保留该feature, 并且全部onehot"
   ]
  },
  {
   "cell_type": "markdown",
   "metadata": {},
   "source": [
    "### * **hits_affiliation:** 传递到电子子商务跟踪代码的联属营销企业信息。"
   ]
  },
  {
   "cell_type": "code",
   "execution_count": null,
   "metadata": {},
   "outputs": [],
   "source": [
    "plot_hits(train, hitslist[1])"
   ]
  },
  {
   "cell_type": "code",
   "execution_count": null,
   "metadata": {},
   "outputs": [],
   "source": [
    "describeinfo(train, hitslist[1])"
   ]
  },
  {
   "cell_type": "markdown",
   "metadata": {},
   "source": [
    "建议： 保留， 并且将nan作为0，存在GMS 作为1"
   ]
  },
  {
   "cell_type": "markdown",
   "metadata": {},
   "source": [
    "###  **hits_contentGroupX:** 媒体资源上的内容组。内容组是指一一类内容的集合,内容组可以体现由跟踪代码或⻚面标题/网址正则表达式匹配或者预定义规则所决定的逻辑结构。"
   ]
  },
  {
   "cell_type": "code",
   "execution_count": null,
   "metadata": {},
   "outputs": [],
   "source": [
    "plot_hits(train, hitslist[2])"
   ]
  },
  {
   "cell_type": "code",
   "execution_count": null,
   "metadata": {},
   "outputs": [],
   "source": [
    "describeinfo(train, hitslist[2])"
   ]
  },
  {
   "cell_type": "markdown",
   "metadata": {},
   "source": [
    "建议： 保留， all onehot"
   ]
  },
  {
   "cell_type": "code",
   "execution_count": null,
   "metadata": {},
   "outputs": [],
   "source": [
    "plot_hits(train, hitslist[3])"
   ]
  },
  {
   "cell_type": "code",
   "execution_count": null,
   "metadata": {},
   "outputs": [],
   "source": [
    "describeinfo(train, hitslist[3])"
   ]
  },
  {
   "cell_type": "markdown",
   "metadata": {},
   "source": [
    "保留， all onehot"
   ]
  },
  {
   "cell_type": "code",
   "execution_count": null,
   "metadata": {},
   "outputs": [],
   "source": [
    "plot_hits(train, hitslist[4])"
   ]
  },
  {
   "cell_type": "code",
   "execution_count": null,
   "metadata": {},
   "outputs": [],
   "source": [
    "describeinfo(train, hitslist[4])"
   ]
  },
  {
   "cell_type": "markdown",
   "metadata": {},
   "source": [
    "建议： 保留， onehot"
   ]
  },
  {
   "cell_type": "markdown",
   "metadata": {},
   "source": [
    "### **hits_contentGroupUniqueViewsX:** 内容组的唯一一身份浏览次数。不同会话中的内容组浏览均会计为内容组的唯一身份浏览。pagePath 和 pageTitle 均可用于确定内容组浏览的唯一一性。(索引 X 的范围为 1 到 5)\n"
   ]
  },
  {
   "cell_type": "code",
   "execution_count": null,
   "metadata": {},
   "outputs": [],
   "source": [
    "plot_hits(train, hitslist[5])"
   ]
  },
  {
   "cell_type": "code",
   "execution_count": null,
   "metadata": {},
   "outputs": [],
   "source": [
    "describeinfo(train, hitslist[5])"
   ]
  },
  {
   "cell_type": "markdown",
   "metadata": {},
   "source": [
    "建议： 保留， onehot"
   ]
  },
  {
   "cell_type": "code",
   "execution_count": null,
   "metadata": {},
   "outputs": [],
   "source": [
    "plot_hits(train, hitslist[6])"
   ]
  },
  {
   "cell_type": "code",
   "execution_count": null,
   "metadata": {},
   "outputs": [],
   "source": [
    "describeinfo(train, hitslist[6])"
   ]
  },
  {
   "cell_type": "code",
   "execution_count": null,
   "metadata": {},
   "outputs": [],
   "source": [
    "train['c3len'] = train.hits_contentGroupUniqueViews3.apply(cclen)"
   ]
  },
  {
   "cell_type": "code",
   "execution_count": null,
   "metadata": {},
   "outputs": [],
   "source": [
    "plot_hits(train,'c3len')"
   ]
  },
  {
   "cell_type": "markdown",
   "metadata": {},
   "source": [
    "建议： 保留， all onehot, 并创建新特征 c3len"
   ]
  },
  {
   "cell_type": "markdown",
   "metadata": {},
   "source": [
    "# 2. 'hits_currencyCode'......'hits_exitScreenName'"
   ]
  },
  {
   "cell_type": "markdown",
   "metadata": {},
   "source": [
    "* **hits_currencyCode:** 交易采用的本地货币代码\n",
    "\n",
    "* **hits_dataSource:** 某一一次匹配的数据源。默认情况下,从analytics.js 发送的匹配在报告中显示为“web”,从移动 SDK 发送的匹配在报告中显示为“app”。\n",
    "\n",
    "* **hits_domContentLoadedTime:** 浏览器器解析文文档并执行行行解析器器插入入的已延迟脚本(DOMContentLoaded) 所需的时间(以毫秒为单位),其中包括从用用户所在位置连接到网网站的服务器器所需的网网络时间。\n",
    "\n",
    "* **hits_domInteractiveTime:** 浏览器器解析文文档 (DOMInteractive) 所需的时间(以毫秒为单位),其中包括从用用户所在位置连接到网网站的服务器器所需的网网络时间。\n",
    "\n",
    "* **hits_domLatencyMetricsSample:** 用用来计算网网站速度 DOM 指标平均值的网网⻚页浏览样本集(或计数)。\n",
    "\n",
    "* **hits_domainLookupTime:** 所有示例例在查找此网网⻚页的 DNS 上所花费的总时间(以秒为单位)。\n",
    "\n",
    "* **hits_eventAction:** 事件操作\n",
    "\n",
    "* **hits_eventCategory:** 事件类别\n",
    "\n",
    "* **hits_eventLabel:** 事件标签\n",
    "\n",
    "* **hits_exitScreenName:** 会话的退出屏幕"
   ]
  },
  {
   "cell_type": "code",
   "execution_count": null,
   "metadata": {},
   "outputs": [],
   "source": [
    "hitslist2 = ['hits_currencyCode', 'hits_dataSource', 'hits_domContentLoadedTime',\n",
    "            'hits_domInteractiveTime', 'hits_domLatencyMetricsSample',\n",
    "            'hits_domainLookupTime', 'hits_eventAction', 'hits_eventCategory',\n",
    "            'hits_eventLabel', 'hits_exitScreenName']"
   ]
  },
  {
   "cell_type": "code",
   "execution_count": null,
   "metadata": {},
   "outputs": [],
   "source": [
    "for i in hitslist2:\n",
    "    train[i].fillna('nan', inplace=True) "
   ]
  },
  {
   "cell_type": "code",
   "execution_count": null,
   "metadata": {},
   "outputs": [],
   "source": [
    "train[hitslist2].head(5)"
   ]
  },
  {
   "cell_type": "markdown",
   "metadata": {},
   "source": [
    "### **hits_currencyCode:** 交易采用的本地货币代码"
   ]
  },
  {
   "cell_type": "code",
   "execution_count": null,
   "metadata": {},
   "outputs": [],
   "source": [
    "# hits_currencyCode\n",
    "# 这个特征均为’USD‘，意味着全部交易均用美元交易，我们看看list 的len 跟预测值有没有关系\n",
    "len1: {sum(lens==1)}\n",
    "\n",
    "train['currencyCode_len'] = train.hits_currencyCode.apply(cclen)"
   ]
  },
  {
   "cell_type": "code",
   "execution_count": null,
   "metadata": {},
   "outputs": [],
   "source": [
    "plot_hits(train, 'currencyCode_len')"
   ]
  },
  {
   "cell_type": "code",
   "execution_count": null,
   "metadata": {},
   "outputs": [],
   "source": [
    "describeinfo(train, 'currencyCode_len')"
   ]
  },
  {
   "cell_type": "markdown",
   "metadata": {},
   "source": [
    "保留 数值型"
   ]
  },
  {
   "cell_type": "markdown",
   "metadata": {},
   "source": [
    "### **hits_dataSource:** 某一一次匹配的数据源。默认情况下,从analytics.js 发送的匹配在报告中显示为“web”,从移动 SDK 发送的匹配在报告中显示为“app”。"
   ]
  },
  {
   "cell_type": "code",
   "execution_count": null,
   "metadata": {},
   "outputs": [],
   "source": [
    "plot_hits(train, hitslist2[1])"
   ]
  },
  {
   "cell_type": "code",
   "execution_count": null,
   "metadata": {},
   "outputs": [],
   "source": [
    "describeinfo(train, hitslist2[1])"
   ]
  },
  {
   "cell_type": "markdown",
   "metadata": {},
   "source": [
    "建议 ：onehot"
   ]
  },
  {
   "cell_type": "markdown",
   "metadata": {},
   "source": [
    "### **hits_domContentLoadedTime:** 浏览器器解析文文档并执行行行解析器器插入入的已延迟脚本(DOMContentLoaded) 所需的时间(以毫秒为单位),其中包括从用用户所在位置连接到网网站的服务器器所需的网网络时间。"
   ]
  },
  {
   "cell_type": "code",
   "execution_count": null,
   "metadata": {},
   "outputs": [],
   "source": [
    "plot_hits(train, hitslist2[2])"
   ]
  },
  {
   "cell_type": "markdown",
   "metadata": {},
   "source": [
    "drop了吧"
   ]
  },
  {
   "cell_type": "markdown",
   "metadata": {},
   "source": [
    "### **hits_domInteractiveTime:** 浏览器器解析文文档 (DOMInteractive) 所需的时间(以毫秒为单位),其中包括从用用户所在位置连接到网网站的服务器器所需的网网络时间。"
   ]
  },
  {
   "cell_type": "code",
   "execution_count": null,
   "metadata": {},
   "outputs": [],
   "source": [
    "plot_hits(train, hitslist2[3], rotation=-45)"
   ]
  },
  {
   "cell_type": "code",
   "execution_count": null,
   "metadata": {},
   "outputs": [],
   "source": [
    "describeinfo(train, hitslist2[3])"
   ]
  },
  {
   "cell_type": "markdown",
   "metadata": {},
   "source": [
    "drop"
   ]
  },
  {
   "cell_type": "markdown",
   "metadata": {},
   "source": [
    "### **hits_domLatencyMetricsSample:** 用用来计算网网站速度 DOM 指标平均值的网网⻚页浏览样本集(或计数)。"
   ]
  },
  {
   "cell_type": "code",
   "execution_count": null,
   "metadata": {},
   "outputs": [],
   "source": [
    "plot_hits(train, hitslist2[4])"
   ]
  },
  {
   "cell_type": "code",
   "execution_count": null,
   "metadata": {},
   "outputs": [],
   "source": [
    "describeinfo(train, hitslist2[4])"
   ]
  },
  {
   "cell_type": "code",
   "execution_count": null,
   "metadata": {},
   "outputs": [],
   "source": [
    "train['sLMSlen'] = train.hits_domLatencyMetricsSample.apply(cclen)"
   ]
  },
  {
   "cell_type": "code",
   "execution_count": null,
   "metadata": {},
   "outputs": [],
   "source": [
    "plot_hits(train, 'sLMSlen')"
   ]
  },
  {
   "cell_type": "markdown",
   "metadata": {},
   "source": [
    "保留 onehot"
   ]
  },
  {
   "cell_type": "markdown",
   "metadata": {},
   "source": [
    "### **hits_domainLookupTime:** 所有示例在查找此网页的 DNS 上所花费的总时间(以秒为单位)。"
   ]
  },
  {
   "cell_type": "code",
   "execution_count": null,
   "metadata": {},
   "outputs": [],
   "source": [
    "plot_hits(train, hitslist2[5])"
   ]
  },
  {
   "cell_type": "code",
   "execution_count": null,
   "metadata": {},
   "outputs": [],
   "source": [
    "describeinfo(train, hitslist2[5])"
   ]
  },
  {
   "cell_type": "markdown",
   "metadata": {},
   "source": [
    "删了吧"
   ]
  },
  {
   "cell_type": "markdown",
   "metadata": {},
   "source": [
    "###  **hits_eventAction:** 事件操作"
   ]
  },
  {
   "cell_type": "code",
   "execution_count": null,
   "metadata": {},
   "outputs": [],
   "source": [
    "plot_hits(train, hitslist2[6],rotation=-45)"
   ]
  },
  {
   "cell_type": "code",
   "execution_count": null,
   "metadata": {},
   "outputs": [],
   "source": [
    "describeinfo(train, hitslist2[6])"
   ]
  },
  {
   "cell_type": "markdown",
   "metadata": {},
   "source": [
    "保留 onehot"
   ]
  },
  {
   "cell_type": "markdown",
   "metadata": {},
   "source": [
    "### **hits_eventCategory:** 事件类别"
   ]
  },
  {
   "cell_type": "code",
   "execution_count": null,
   "metadata": {},
   "outputs": [],
   "source": [
    "plot_hits(train, hitslist2[7])"
   ]
  },
  {
   "cell_type": "code",
   "execution_count": null,
   "metadata": {},
   "outputs": [],
   "source": [
    "describeinfo(train, hitslist2[7])"
   ]
  },
  {
   "cell_type": "markdown",
   "metadata": {},
   "source": [
    "保留 onehot"
   ]
  },
  {
   "cell_type": "markdown",
   "metadata": {},
   "source": [
    "### **hits_eventLabel:** 事件标签"
   ]
  },
  {
   "cell_type": "code",
   "execution_count": null,
   "metadata": {},
   "outputs": [],
   "source": [
    "plot_hits(train, hitslist2[8], rotation=-45)"
   ]
  },
  {
   "cell_type": "code",
   "execution_count": null,
   "metadata": {},
   "outputs": [],
   "source": [
    "describeinfo(train, hitslist2[8])"
   ]
  },
  {
   "cell_type": "markdown",
   "metadata": {},
   "source": [
    "建议保留，并且保留前20，onehot"
   ]
  },
  {
   "cell_type": "markdown",
   "metadata": {},
   "source": [
    "### **hits_exitScreenName:** 会话的退出屏幕"
   ]
  },
  {
   "cell_type": "code",
   "execution_count": null,
   "metadata": {},
   "outputs": [],
   "source": [
    "plot_hits(train, hitslist2[9], rotation=-90)"
   ]
  },
  {
   "cell_type": "code",
   "execution_count": null,
   "metadata": {},
   "outputs": [],
   "source": [
    "describeinfo(train, hitslist2[9])"
   ]
  },
  {
   "cell_type": "markdown",
   "metadata": {},
   "source": [
    "建议保留，并且保留前20，onehot"
   ]
  },
  {
   "cell_type": "markdown",
   "metadata": {},
   "source": [
    "# 3. 'hits_hasSocialSourceReferral'......'hits_isInteraction'"
   ]
  },
  {
   "cell_type": "markdown",
   "metadata": {},
   "source": [
    "* **hits_hasSocialSourceReferral:** 指示媒体资源获得的会话是否来自于社交来源的字符串,其值为 Yes 或 No\n",
    "    \n",
    "* **hits_hitNumber:** 按顺序排列列的匹配编号。对于每个会话的首次匹配,此值均为 1\n",
    "    \n",
    "* **hits_hostname:** 网网址对应的主机名。\n",
    "    \n",
    "* **hits_hour:** 匹配发生生时间中的小小时部分(介于 0 到 23 之间)\n",
    "    \n",
    "* **hits_isClick:** 当产品出现在产品列列表上时,用用户是否点击了了此产品\n",
    "    \n",
    "* **hits_isEntrance:** 如果本次匹配是会话的首首次网网⻚页浏览或屏幕浏览,则此值为 true\n",
    "    \n",
    "* **hits_isExit:** 如果本次匹配是会话的最后一一次网网⻚页浏览或屏幕浏览,则此值为 true。\n",
    "    \n",
    "* **hits_isFatal:** 如果异常情况较为严重,此字段为 true。\n",
    "    \n",
    "* **hits_isImpression:** 当产品出现在产品列列表上时,如果至少有一名用户查看了此产品,则此值为 TRUE。\n",
    "    \n",
    "* **hits_isInteraction:** 如果本次匹配是一次互动,则此值为 true。如果本次匹配是一一次非互动匹配(即 interaction 设置为 false 的事件),则此值为 false。"
   ]
  },
  {
   "cell_type": "code",
   "execution_count": null,
   "metadata": {},
   "outputs": [],
   "source": [
    "hitslist3 = ['hits_hasSocialSourceReferral', 'hits_hitNumber', 'hits_hostname',\n",
    "             'hits_hour', 'hits_isClick', 'hits_isEntrance', 'hits_isExit',\n",
    "             'hits_isFatal', 'hits_isImpression', 'hits_isInteraction']"
   ]
  },
  {
   "cell_type": "code",
   "execution_count": null,
   "metadata": {},
   "outputs": [],
   "source": [
    "train[hitslist3].head(5)"
   ]
  },
  {
   "cell_type": "code",
   "execution_count": null,
   "metadata": {},
   "outputs": [],
   "source": [
    "for i in hitslist3:\n",
    "    train[i].fillna('nan', inplace=True) "
   ]
  },
  {
   "cell_type": "markdown",
   "metadata": {},
   "source": [
    "* **hits_hasSocialSourceReferral:** 指示媒体资源获得的会话是否来自于社交来源的字符串,其值为 Yes 或 No"
   ]
  },
  {
   "cell_type": "code",
   "execution_count": null,
   "metadata": {},
   "outputs": [],
   "source": [
    "plot_hits(train, hitslist3[0])"
   ]
  },
  {
   "cell_type": "markdown",
   "metadata": {},
   "source": [
    "保留： onehot"
   ]
  },
  {
   "cell_type": "markdown",
   "metadata": {},
   "source": [
    "* **hits_hitNumber:** 按顺序排列列的匹配编号。对于每个会话的首次匹配,此值均为 1"
   ]
  },
  {
   "cell_type": "code",
   "execution_count": null,
   "metadata": {},
   "outputs": [],
   "source": [
    "plot_hits(train, hitslist3[1])"
   ]
  },
  {
   "cell_type": "code",
   "execution_count": null,
   "metadata": {},
   "outputs": [],
   "source": [
    "describeinfo(train, hitslist3[1])"
   ]
  },
  {
   "cell_type": "markdown",
   "metadata": {},
   "source": [
    "保留最高的那一个数字"
   ]
  },
  {
   "cell_type": "markdown",
   "metadata": {},
   "source": [
    "* **hits_hostname:** 网网址对应的主机名。"
   ]
  },
  {
   "cell_type": "code",
   "execution_count": null,
   "metadata": {},
   "outputs": [],
   "source": [
    "plot_hits(train, hitslist3[2],rotation=-45)"
   ]
  },
  {
   "cell_type": "markdown",
   "metadata": {},
   "source": [
    "保留 onehot"
   ]
  },
  {
   "cell_type": "markdown",
   "metadata": {},
   "source": [
    "* **hits_hour:** 匹配发生生时间中的小小时部分(介于 0 到 23 之间)"
   ]
  },
  {
   "cell_type": "code",
   "execution_count": null,
   "metadata": {},
   "outputs": [],
   "source": [
    "plot_hits(train, hitslist3[3])"
   ]
  },
  {
   "cell_type": "code",
   "execution_count": null,
   "metadata": {},
   "outputs": [],
   "source": [
    "describeinfo(train, hitslist3[3])"
   ]
  },
  {
   "cell_type": "code",
   "execution_count": null,
   "metadata": {},
   "outputs": [],
   "source": [
    "def hourdiff(x):\n",
    "    if type(x) == list:\n",
    "        if float(x[-1]) < float(x[0]):\n",
    "            diff = float(x[-1]) + 24 - float(x[0])\n",
    "        else:\n",
    "            diff = float(x[-1])-float(x[0])\n",
    "    else:\n",
    "        diff = np.nan\n",
    "    return diff\n",
    "\n",
    "\n",
    "train['diffhour'] = train.hits_hour.apply(hourdiff)"
   ]
  },
  {
   "cell_type": "code",
   "execution_count": null,
   "metadata": {},
   "outputs": [],
   "source": [
    "plot_hits(train, 'diffhour')"
   ]
  },
  {
   "cell_type": "markdown",
   "metadata": {},
   "source": [
    "保留hour的起始时间， 并且创建 diffhour"
   ]
  },
  {
   "cell_type": "markdown",
   "metadata": {},
   "source": [
    "* **hits_isClick:** 当产品出现在产品列表上时,用户是否点击了此产品"
   ]
  },
  {
   "cell_type": "code",
   "execution_count": null,
   "metadata": {},
   "outputs": [],
   "source": [
    "plot_hits(train, hitslist3[4])"
   ]
  },
  {
   "cell_type": "code",
   "execution_count": null,
   "metadata": {},
   "outputs": [],
   "source": [
    "describeinfo(train, hitslist3[4])"
   ]
  },
  {
   "cell_type": "code",
   "execution_count": null,
   "metadata": {},
   "outputs": [],
   "source": [
    "train['hits_isClick'] = train.hits_isClick.apply(cclen)"
   ]
  },
  {
   "cell_type": "code",
   "execution_count": null,
   "metadata": {},
   "outputs": [],
   "source": [
    "plot_hits(train, 'hits_isClick')"
   ]
  },
  {
   "cell_type": "markdown",
   "metadata": {},
   "source": [
    "建议：保留isClick， 并且创建 lenislick"
   ]
  },
  {
   "cell_type": "markdown",
   "metadata": {},
   "source": [
    "* **hits_isEntrance:** 如果本次匹配是会话的首首次网网⻚页浏览或屏幕浏览,则此值为 true"
   ]
  },
  {
   "cell_type": "code",
   "execution_count": null,
   "metadata": {},
   "outputs": [],
   "source": [
    "plot_hits(train, hitslist3[5])"
   ]
  },
  {
   "cell_type": "markdown",
   "metadata": {},
   "source": [
    "删了吧"
   ]
  },
  {
   "cell_type": "markdown",
   "metadata": {},
   "source": [
    "* **hits_isExit:** 如果本次匹配是会话的最后一一次网网⻚页浏览或屏幕浏览,则此值为 true。"
   ]
  },
  {
   "cell_type": "code",
   "execution_count": null,
   "metadata": {},
   "outputs": [],
   "source": [
    "plot_hits(train, hitslist3[6])"
   ]
  },
  {
   "cell_type": "markdown",
   "metadata": {},
   "source": [
    "删了删了"
   ]
  },
  {
   "cell_type": "markdown",
   "metadata": {},
   "source": [
    "\n",
    "\n",
    "* **hits_isFatal:** 如果异常情况较为严重,此字段为 true。"
   ]
  },
  {
   "cell_type": "code",
   "execution_count": null,
   "metadata": {},
   "outputs": [],
   "source": [
    "plot_hits(train, hitslist3[7])"
   ]
  },
  {
   "cell_type": "code",
   "execution_count": null,
   "metadata": {},
   "outputs": [],
   "source": [
    "train['fatellen'] = train.hits_isFatal.apply(cclen)"
   ]
  },
  {
   "cell_type": "code",
   "execution_count": null,
   "metadata": {},
   "outputs": [],
   "source": [
    "plot_hits(train, 'fatellen')"
   ]
  },
  {
   "cell_type": "markdown",
   "metadata": {},
   "source": [
    "删除 hits_isFatal，创建 fatellen, nan=0"
   ]
  },
  {
   "cell_type": "markdown",
   "metadata": {},
   "source": [
    "* **hits_isImpression:** 当产品出现在产品列列表上时,如果至少有一名用户查看了此产品,则此值为 TRUE。"
   ]
  },
  {
   "cell_type": "code",
   "execution_count": null,
   "metadata": {},
   "outputs": [],
   "source": [
    "plot_hits(train, hitslist3[8])"
   ]
  },
  {
   "cell_type": "code",
   "execution_count": null,
   "metadata": {},
   "outputs": [],
   "source": [
    "train['Impressionlen'] = train.hits_isImpression.apply(cclen)"
   ]
  },
  {
   "cell_type": "code",
   "execution_count": null,
   "metadata": {},
   "outputs": [],
   "source": [
    "plot_hits(train, 'Impressionlen')"
   ]
  },
  {
   "cell_type": "markdown",
   "metadata": {},
   "source": [
    "删除 hits_isImpression ，新建Impressionlen， nan=0"
   ]
  },
  {
   "cell_type": "markdown",
   "metadata": {},
   "source": [
    "* **hits_isInteraction:** 如果本次匹配是一次互动,则此值为 true。如果本次匹配是一一次非互动匹配(即 interaction 设置为 false 的事件),则此值为 false。"
   ]
  },
  {
   "cell_type": "code",
   "execution_count": null,
   "metadata": {},
   "outputs": [],
   "source": [
    "plot_hits(train, hitslist3[9])"
   ]
  },
  {
   "cell_type": "markdown",
   "metadata": {},
   "source": [
    "直接删了吧"
   ]
  },
  {
   "cell_type": "code",
   "execution_count": null,
   "metadata": {},
   "outputs": [],
   "source": []
  }
 ],
 "metadata": {
  "kernelspec": {
   "display_name": "Python 3",
   "language": "python",
   "name": "python3"
  },
  "language_info": {
   "codemirror_mode": {
    "name": "ipython",
    "version": 3
   },
   "file_extension": ".py",
   "mimetype": "text/x-python",
   "name": "python",
   "nbconvert_exporter": "python",
   "pygments_lexer": "ipython3",
   "version": "3.6.6"
  }
 },
 "nbformat": 4,
 "nbformat_minor": 2
}
