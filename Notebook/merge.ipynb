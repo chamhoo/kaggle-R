{
 "cells": [
  {
   "cell_type": "code",
   "execution_count": 1,
   "metadata": {},
   "outputs": [],
   "source": [
    "import warnings\n",
    "warnings.filterwarnings('ignore')\n",
    "\n",
    "import numpy as np\n",
    "import pandas as pd\n",
    "import matplotlib.pyplot as plt"
   ]
  },
  {
   "cell_type": "code",
   "execution_count": 2,
   "metadata": {},
   "outputs": [],
   "source": [
    "y_predict_class = np.load('/home/leechh/tempfile/R/y_calssfier.npy')\n",
    "y_predict_reg = np.load('/home/leechh/tempfile/R/1030/y_pred_reg.npy')\n",
    "\n",
    "classifier = pd.Series(y_predict_class)\n",
    "reg = pd.Series(y_predict_reg)\n",
    "\n",
    "pandas = pd.read_feather('/home/leechh/tempfile/R/test.feather')\n",
    "sample = pd.read_csv('/home/leechh/data/R/sample_submission.csv')"
   ]
  },
  {
   "cell_type": "code",
   "execution_count": 3,
   "metadata": {},
   "outputs": [],
   "source": [
    "idx1 = pandas['totals_pageviews'].notnull()\n",
    "idx2 = pandas['totals_pageviews'].isnull()\n",
    "pandas1 = pandas[idx1]\n",
    "pandas2 = pandas[idx2]"
   ]
  },
  {
   "cell_type": "code",
   "execution_count": 4,
   "metadata": {},
   "outputs": [
    {
     "name": "stdout",
     "output_type": "stream",
     "text": [
      "(804545,) (804545, 53) (804545,)\n"
     ]
    }
   ],
   "source": [
    "print(classifier.shape, pandas1.shape,reg.shape)"
   ]
  },
  {
   "cell_type": "code",
   "execution_count": 5,
   "metadata": {},
   "outputs": [],
   "source": [
    "pandas1 = pandas1.reset_index().drop(['index'],axis=1)"
   ]
  },
  {
   "cell_type": "code",
   "execution_count": 6,
   "metadata": {},
   "outputs": [],
   "source": [
    "idx = classifier > 0.5\n",
    "classifier[idx] = reg[idx]"
   ]
  },
  {
   "cell_type": "code",
   "execution_count": 7,
   "metadata": {},
   "outputs": [],
   "source": [
    "predict1 = pd.DataFrame({'fullVisitorId':pandas1.fullVisitorId.values,'target':classifier})\n",
    "predict2 = pd.DataFrame({'fullVisitorId':pandas2.fullVisitorId.values,'target':np.zeros(pandas2.shape[0])})\n",
    "predict = predict1.append(predict2)"
   ]
  },
  {
   "cell_type": "code",
   "execution_count": 8,
   "metadata": {},
   "outputs": [
    {
     "data": {
      "text/plain": [
       "count    804684.000000\n",
       "mean          0.412893\n",
       "std           2.675241\n",
       "min           0.000000\n",
       "25%           0.000000\n",
       "50%           0.000000\n",
       "75%           0.000000\n",
       "max          21.133486\n",
       "Name: target, dtype: float64"
      ]
     },
     "execution_count": 8,
     "metadata": {},
     "output_type": "execute_result"
    }
   ],
   "source": [
    "predict.target.describe()"
   ]
  },
  {
   "cell_type": "code",
   "execution_count": 9,
   "metadata": {},
   "outputs": [],
   "source": [
    "predict['Revenue'] = np.expm1(predict.target)"
   ]
  },
  {
   "cell_type": "code",
   "execution_count": 10,
   "metadata": {},
   "outputs": [],
   "source": [
    "predict.reset_index(inplace=True,drop=True)"
   ]
  },
  {
   "cell_type": "code",
   "execution_count": 14,
   "metadata": {},
   "outputs": [
    {
     "data": {
      "text/plain": [
       "count    617242.000000\n",
       "mean          0.437954\n",
       "std           2.760555\n",
       "min           0.000000\n",
       "25%           0.000000\n",
       "50%           0.000000\n",
       "75%           0.000000\n",
       "max          21.788571\n",
       "Name: Revenue, dtype: float64"
      ]
     },
     "execution_count": 14,
     "metadata": {},
     "output_type": "execute_result"
    }
   ],
   "source": [
    "np.log1p(predict.groupby('fullVisitorId')['Revenue'].sum()).describe()"
   ]
  },
  {
   "cell_type": "code",
   "execution_count": 28,
   "metadata": {},
   "outputs": [
    {
     "data": {
      "text/html": [
       "<div>\n",
       "<style scoped>\n",
       "    .dataframe tbody tr th:only-of-type {\n",
       "        vertical-align: middle;\n",
       "    }\n",
       "\n",
       "    .dataframe tbody tr th {\n",
       "        vertical-align: top;\n",
       "    }\n",
       "\n",
       "    .dataframe thead th {\n",
       "        text-align: right;\n",
       "    }\n",
       "</style>\n",
       "<table border=\"1\" class=\"dataframe\">\n",
       "  <thead>\n",
       "    <tr style=\"text-align: right;\">\n",
       "      <th></th>\n",
       "      <th>fullVisitorId</th>\n",
       "      <th>target</th>\n",
       "      <th>Revenue</th>\n",
       "    </tr>\n",
       "  </thead>\n",
       "  <tbody>\n",
       "    <tr>\n",
       "      <th>649642</th>\n",
       "      <td>0000117255350596610</td>\n",
       "      <td>18.193268</td>\n",
       "      <td>7.965918e+07</td>\n",
       "    </tr>\n",
       "  </tbody>\n",
       "</table>\n",
       "</div>"
      ],
      "text/plain": [
       "              fullVisitorId     target       Revenue\n",
       "649642  0000117255350596610  18.193268  7.965918e+07"
      ]
     },
     "execution_count": 28,
     "metadata": {},
     "output_type": "execute_result"
    }
   ],
   "source": [
    "predict[predict.fullVisitorId == '0000117255350596610']"
   ]
  },
  {
   "cell_type": "code",
   "execution_count": 23,
   "metadata": {},
   "outputs": [
    {
     "data": {
      "text/plain": [
       "133.28977968493552"
      ]
     },
     "execution_count": 23,
     "metadata": {},
     "output_type": "execute_result"
    }
   ],
   "source": [
    "np.expm1(4.9)"
   ]
  },
  {
   "cell_type": "code",
   "execution_count": 26,
   "metadata": {},
   "outputs": [
    {
     "data": {
      "text/plain": [
       "79659177.43463854"
      ]
     },
     "execution_count": 26,
     "metadata": {},
     "output_type": "execute_result"
    }
   ],
   "source": [
    "score['0000117255350596610']"
   ]
  },
  {
   "cell_type": "code",
   "execution_count": 27,
   "metadata": {},
   "outputs": [
    {
     "data": {
      "text/plain": [
       "18.1932678168094"
      ]
     },
     "execution_count": 27,
     "metadata": {},
     "output_type": "execute_result"
    }
   ],
   "source": [
    "np.log1p(79659177)"
   ]
  },
  {
   "cell_type": "code",
   "execution_count": 25,
   "metadata": {},
   "outputs": [],
   "source": [
    "score = predict.groupby('fullVisitorId')['Revenue'].sum()"
   ]
  },
  {
   "cell_type": "code",
   "execution_count": 20,
   "metadata": {},
   "outputs": [
    {
     "data": {
      "text/plain": [
       "fullVisitorId\n",
       "0000000259678714014    0.000000\n",
       "0000049363351866189    0.000000\n",
       "0000053049821714864    0.000000\n",
       "0000059488412965267    0.000000\n",
       "0000085840370633780    0.000000\n",
       "0000091131414287111    0.000000\n",
       "0000117255350596610    4.390233\n",
       "0000118334805178127    0.000000\n",
       "0000130646294093000    0.000000\n",
       "0000150005271820273    0.000000\n",
       "0000166374699289385    0.000000\n",
       "0000174453501096099    0.000000\n",
       "000018122977590134     4.349026\n",
       "000020731284570628     0.000000\n",
       "0000232022622082281    0.000000\n",
       "0000271086753662651    0.000000\n",
       "0000282648818935742    0.000000\n",
       "00003038793126460      0.000000\n",
       "0000313524203455157    0.000000\n",
       "0000324924635296742    0.000000\n",
       "0000338548677636278    0.000000\n",
       "0000354865008116989    0.000000\n",
       "0000359974620542953    0.000000\n",
       "0000384434116640351    3.866847\n",
       "0000385653946068037    0.000000\n",
       "0000397214032106948    0.000000\n",
       "0000414003317636552    0.000000\n",
       "0000421850492821864    0.000000\n",
       "0000436683523507380    0.000000\n",
       "0000443488189725694    0.000000\n",
       "                         ...   \n",
       "9999496940471624606    0.000000\n",
       "9999518756481096457    0.000000\n",
       "999953571560215806     0.000000\n",
       "9999562285379264463    0.000000\n",
       "9999614340989943927    0.000000\n",
       "9999627287761032935    0.000000\n",
       "9999629963061245228    0.000000\n",
       "9999664171331798815    0.000000\n",
       "9999686314743907991    0.000000\n",
       "9999686339684184799    0.000000\n",
       "9999687906312811598    0.000000\n",
       "9999715835738672145    0.000000\n",
       "9999733949531374274    0.000000\n",
       "9999775084144044428    0.000000\n",
       "999977536649351076     0.000000\n",
       "9999786007255502100    0.000000\n",
       "9999789814107288877    0.000000\n",
       "9999803509476553670    0.000000\n",
       "9999818112872622034    0.000000\n",
       "9999819762744314978    0.000000\n",
       "9999824326944242344    3.358801\n",
       "9999834067265202923    0.000000\n",
       "9999841005270636052    0.000000\n",
       "9999860794386137754    0.000000\n",
       "9999882818693474736    4.717539\n",
       "9999905960465191827    0.000000\n",
       "9999941518946450908    0.000000\n",
       "9999969142283897422    0.000000\n",
       "9999985820452794361    0.000000\n",
       "9999997304197521748    0.000000\n",
       "Name: Revenue, Length: 617242, dtype: float64"
      ]
     },
     "execution_count": 20,
     "metadata": {},
     "output_type": "execute_result"
    }
   ],
   "source": [
    "score"
   ]
  },
  {
   "cell_type": "code",
   "execution_count": null,
   "metadata": {},
   "outputs": [],
   "source": [
    "submission = pd.DataFrame(\n",
    "    {'fullVisitorId':score.index.values.astype('str'),\n",
    "     'PredictedLogRevenue':score.values.astype('float')}\n",
    ")"
   ]
  },
  {
   "cell_type": "code",
   "execution_count": null,
   "metadata": {},
   "outputs": [],
   "source": [
    "submission.to_csv('/home/leechh/tempfile/R/submission3.csv',index=False)"
   ]
  },
  {
   "cell_type": "code",
   "execution_count": null,
   "metadata": {},
   "outputs": [],
   "source": [
    "submiss"
   ]
  }
 ],
 "metadata": {
  "kernelspec": {
   "display_name": "Python 3",
   "language": "python",
   "name": "python3"
  },
  "language_info": {
   "codemirror_mode": {
    "name": "ipython",
    "version": 3
   },
   "file_extension": ".py",
   "mimetype": "text/x-python",
   "name": "python",
   "nbconvert_exporter": "python",
   "pygments_lexer": "ipython3",
   "version": "3.6.6"
  }
 },
 "nbformat": 4,
 "nbformat_minor": 2
}
