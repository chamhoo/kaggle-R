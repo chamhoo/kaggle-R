{
 "cells": [
  {
   "cell_type": "code",
   "execution_count": null,
   "metadata": {},
   "outputs": [],
   "source": [
    "import json\n",
    "import os\n",
    "import numpy as np\n",
    "import pandas as pd\n",
    "import matplotlib.pyplot as plt\n",
    "from pandas.io.json import json_normalize\n",
    "from sklearn.preprocessing import LabelEncoder\n",
    "from sklearn.preprocessing import OneHotEncoder\n",
    "import warnings\n",
    "warnings.filterwarnings('ignore')"
   ]
  },
  {
   "cell_type": "code",
   "execution_count": null,
   "metadata": {},
   "outputs": [],
   "source": [
    "def cleandata(path,isdf):\n",
    "    df = pd.read_feather(path)\n",
    "    #Time\n",
    "    df['date'] = pd.to_datetime(df.date, format='%Y%m%d')\n",
    "    df['week'] = df.date.apply(lambda t: t.dayofweek)\n",
    "    df['day'] = df.date.apply(lambda t: t.dayofyear)\n",
    "    #drop repeated feature\n",
    "    for i in df.columns:\n",
    "        if sum(df[i] == df[i][0]) == df.shape[0]:\n",
    "            df.drop([i], axis=1, inplace=True)\n",
    "    #geoNetwork=\n",
    "    #totals\n",
    "    df.dropna(axis=0, inplace=True, subset=['totals_pageviews'])\n",
    "    df['totals_bounces'] = df.totals_bounces.fillna(0).astype('float')\n",
    "    df['totals_newVisits'] = df.totals_newVisits.fillna(0).astype('float')\n",
    "    df['totals_hits'] = df.totals_hits.astype('float')\n",
    "    df['totals_pageviews'] = df.totals_pageviews.astype('float')\n",
    "    df['diff'] = df.totals_hits - df.totals_pageviews\n",
    "    #trafficSource\n",
    "    df['havegclid'] = df['trafficSource_adwordsClickInfo.gclId'].notnull()\n",
    "    df['istruedirect'] = (df.trafficSource_isTrueDirect.notnull()) & (df.channelGrouping != 'Direct') \n",
    "    df['path'] = df.trafficSource_source +  df.trafficSource_referralPath.fillna('') \n",
    "    if isdf == True:\n",
    "        df.drop(['trafficSource_campaignCode'],axis=1,inplace=True)\n",
    "    else:\n",
    "        pass\n",
    "    #drop\n",
    "    droplist = [\n",
    "        'sessionId',\n",
    "        'date',\n",
    "        'device_isMobile',\n",
    "        'visitStartTime',\n",
    "        'geoNetwork_continent',\n",
    "        'geoNetwork_region',\n",
    "        'geoNetwork_metro',\n",
    "        'geoNetwork_country',\n",
    "        'trafficSource_adContent',\n",
    "        'trafficSource_adwordsClickInfo.gclId',\n",
    "        'trafficSource_medium',\n",
    "        'trafficSource_adwordsClickInfo.isVideoAd',\n",
    "        'trafficSource_adwordsClickInfo.adNetworkType',\n",
    "        'trafficSource_adwordsClickInfo.page',\n",
    "        'trafficSource_adwordsClickInfo.slot',\n",
    "        'trafficSource_keyword',\n",
    "        'trafficSource_campaign',\n",
    "        'trafficSource_source',\n",
    "        'trafficSource_referralPath',\n",
    "        'trafficSource_isTrueDirect',\n",
    "        'visitId',\n",
    "        'fullVisitorId'\n",
    "    ]\n",
    "    df.drop(droplist, axis=1, inplace=True)\n",
    "    return df\n",
    "    "
   ]
  },
  {
   "cell_type": "code",
   "execution_count": null,
   "metadata": {},
   "outputs": [],
   "source": [
    "trainpath = '/home/leechh/桌面/tempfile/R/train.feather'\n",
    "\n",
    "train = cleandata(trainpath,True)"
   ]
  },
  {
   "cell_type": "code",
   "execution_count": null,
   "metadata": {},
   "outputs": [],
   "source": [
    "testpath = '/home/leechh/桌面/tempfile/R/test.feather'\n",
    "\n",
    "test = cleandata(testpath,False)"
   ]
  },
  {
   "cell_type": "code",
   "execution_count": null,
   "metadata": {},
   "outputs": [],
   "source": [
    "idx = train.totals_transactionRevenue.notnull()\n",
    "train = train[idx].reset_index()"
   ]
  },
  {
   "cell_type": "code",
   "execution_count": null,
   "metadata": {},
   "outputs": [],
   "source": [
    "train.head()"
   ]
  },
  {
   "cell_type": "code",
   "execution_count": null,
   "metadata": {
    "scrolled": true
   },
   "outputs": [],
   "source": [
    "#device\n",
    "convertlist = ['device_browser', 'device_operatingSystem','geoNetwork_subContinent']\n",
    "for i in convertlist:\n",
    "    idx1 = train[i].value_counts().index[:10].values\n",
    "    idx2 = test[i].value_counts().index[:10].values\n",
    "    whitelist = set(list(idx1)+list(idx2))\n",
    "    traintotal = set(list(train[i].unique())+['Notin'])\n",
    "    testtotal = set(list(test[i].unique())+['Notin'])\n",
    "    trainlist  = traintotal.difference(whitelist)\n",
    "    testlist = testtotal.difference(whitelist)\n",
    "    train[i].replace(list(trainlist),'other',inplace=True)\n",
    "    test[i].replace(list(testlist),'other',inplace=True)"
   ]
  },
  {
   "cell_type": "code",
   "execution_count": null,
   "metadata": {},
   "outputs": [],
   "source": [
    "#device\n",
    "convertlist = ['geoNetwork_city','geoNetwork_networkDomain','path']\n",
    "for i in convertlist:\n",
    "    idx1 = train[i].value_counts().index[:20].values\n",
    "    idx2 = test[i].value_counts().index[:20].values\n",
    "    whitelist = set(list(idx1)+list(idx2))\n",
    "    traintotal = set(list(train[i].unique())+['Notin'])\n",
    "    testtotal = set(list(test[i].unique())+['Notin'])\n",
    "    trainlist  = traintotal.difference(whitelist)\n",
    "    testlist = testtotal.difference(whitelist)\n",
    "    train[i].replace(list(trainlist),'other',inplace=True)\n",
    "    test[i].replace(list(testlist),'other',inplace=True)"
   ]
  },
  {
   "cell_type": "code",
   "execution_count": null,
   "metadata": {},
   "outputs": [],
   "source": [
    "target = train.totals_transactionRevenue\n",
    "train.drop(['totals_transactionRevenue','index'], axis=1, inplace=True)"
   ]
  },
  {
   "cell_type": "code",
   "execution_count": null,
   "metadata": {},
   "outputs": [],
   "source": [
    "realtarget = target.astype('float')/(10**6)\n",
    "logtarget = np.log1p(target.astype('float')+1)"
   ]
  },
  {
   "cell_type": "code",
   "execution_count": null,
   "metadata": {},
   "outputs": [],
   "source": [
    "train.head()"
   ]
  },
  {
   "cell_type": "code",
   "execution_count": null,
   "metadata": {},
   "outputs": [],
   "source": [
    "lelist = ['channelGrouping',\n",
    "          'device_browser',\n",
    "          'device_deviceCategory',\n",
    "          'device_operatingSystem',\n",
    "          'geoNetwork_city',\n",
    "          'geoNetwork_networkDomain',\n",
    "          'geoNetwork_subContinent',\n",
    "          'path'\n",
    "         ]\n",
    "\n",
    "for col in lelist:\n",
    "    le = LabelEncoder()\n",
    "    fitlabel = le.fit(list(train[col].values)+list(test[col].values))\n",
    "    train[col] = le.transform(list(train[col].values))\n",
    "    test[col] = le.transform(list(test[col].values))"
   ]
  },
  {
   "cell_type": "code",
   "execution_count": null,
   "metadata": {},
   "outputs": [],
   "source": [
    "train.head()"
   ]
  },
  {
   "cell_type": "code",
   "execution_count": null,
   "metadata": {},
   "outputs": [],
   "source": [
    "trainarray = train[lelist].values\n",
    "testarray = test[lelist].values\n",
    "trainlist = []\n",
    "testlist = []\n",
    "for i in np.arange(trainarray.shape[1]):\n",
    "    ohe = OneHotEncoder()\n",
    "    ohe.fit(np.append(trainarray[:,i], testarray[:,i])[:,np.newaxis])\n",
    "    trainlist.append(ohe.transform(trainarray[:,i][:,np.newaxis]).toarray())\n",
    "    testlist.append(ohe.transform(testarray[:,i][:,np.newaxis]).toarray())\n",
    "    \n",
    "x_train = np.hstack(trainlist)\n",
    "x_test = np.hstack(testlist)"
   ]
  },
  {
   "cell_type": "code",
   "execution_count": null,
   "metadata": {
    "scrolled": true
   },
   "outputs": [],
   "source": [
    "columns = list(set(train.columns).difference(lelist))\n",
    "\n",
    "x_train = np.hstack((train[columns].values,x_train))\n",
    "x_test = np.hstack((test[columns].values,x_test))"
   ]
  },
  {
   "cell_type": "code",
   "execution_count": null,
   "metadata": {},
   "outputs": [],
   "source": [
    "np.save('/home/leechh/tempfile/R/x_train1030.npy',x_train.astype('float'))\n",
    "np.save('/home/leechh/tempfile/R/x_test1030.npy',x_test.astype('float'))"
   ]
  },
  {
   "cell_type": "code",
   "execution_count": null,
   "metadata": {},
   "outputs": [],
   "source": [
    "np.save('/home/leechh/tempfile/R/target.npy',target.astype('float'))\n",
    "np.save('/home/leechh/tempfile/R/logtarget.npy',logtarget.astype('float'))\n",
    "np.save('/home/leechh/tempfile/R/realtarget.npy',realtarget.astype('float'))"
   ]
  },
  {
   "cell_type": "code",
   "execution_count": null,
   "metadata": {},
   "outputs": [],
   "source": [
    "gc.collect()"
   ]
  }
 ],
 "metadata": {
  "kernelspec": {
   "display_name": "Python 3",
   "language": "python",
   "name": "python3"
  },
  "language_info": {
   "codemirror_mode": {
    "name": "ipython",
    "version": 3
   },
   "file_extension": ".py",
   "mimetype": "text/x-python",
   "name": "python",
   "nbconvert_exporter": "python",
   "pygments_lexer": "ipython3",
   "version": "3.6.6"
  }
 },
 "nbformat": 4,
 "nbformat_minor": 2
}
