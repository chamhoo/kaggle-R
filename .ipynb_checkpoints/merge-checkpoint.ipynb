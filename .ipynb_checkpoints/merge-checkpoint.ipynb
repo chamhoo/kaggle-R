{
 "cells": [
  {
   "cell_type": "code",
   "execution_count": 1,
   "metadata": {},
   "outputs": [],
   "source": [
    "import warnings\n",
    "warnings.filterwarnings('ignore')\n",
    "\n",
    "import numpy as np\n",
    "import pandas as pd"
   ]
  },
  {
   "cell_type": "code",
   "execution_count": 2,
   "metadata": {},
   "outputs": [],
   "source": [
    "y_predict_class = np.load('/home/leechh/tempfile/R/y_calssfier.npy')\n",
    "y_predict_reg = np.load('/home/leechh/tempfile/R/1030/y_pred_reg.npy')\n",
    "\n",
    "classifier = pd.Series(y_predict_class)\n",
    "reg = pd.Series(y_predict_reg)\n",
    "\n",
    "pandas = pd.read_feather('/home/leechh/tempfile/R/test.feather')\n",
    "sample = pd.read_csv('/home/leechh/data/R/sample_submission.csv')"
   ]
  },
  {
   "cell_type": "code",
   "execution_count": 3,
   "metadata": {},
   "outputs": [],
   "source": [
    "idx1 = pandas['totals_pageviews'].notnull()\n",
    "idx2 = pandas['totals_pageviews'].isnull()\n",
    "pandas1 = pandas[idx1]\n",
    "pandas2 = pandas[idx2]"
   ]
  },
  {
   "cell_type": "code",
   "execution_count": 4,
   "metadata": {},
   "outputs": [],
   "source": [
    "idx = classifier > 0.5\n",
    "classifier[idx] = reg[idx]"
   ]
  },
  {
   "cell_type": "code",
   "execution_count": 5,
   "metadata": {},
   "outputs": [],
   "source": [
    "predict1 = pd.DataFrame({'fullVisitorId':pandas1.fullVisitorId.values,'target':classifier})\n",
    "predict2 = pd.DataFrame({'fullVisitorId':pandas2.fullVisitorId.values,'target':np.zeros(pandas2.shape[0])})\n",
    "predict = predict1.append(predict2)"
   ]
  },
  {
   "cell_type": "code",
   "execution_count": 6,
   "metadata": {},
   "outputs": [],
   "source": [
    "predict['Revenue'] = (np.e**predict.target)-1"
   ]
  },
  {
   "cell_type": "code",
   "execution_count": 9,
   "metadata": {},
   "outputs": [],
   "source": [
    "score = np.log1p(predict.groupby('fullVisitorId')['Revenue'].sum()+1)"
   ]
  },
  {
   "cell_type": "code",
   "execution_count": 13,
   "metadata": {},
   "outputs": [],
   "source": [
    "submission = pd.DataFrame({'fullVisitorId':score.index.values,'PredictedLogRevenue':score.values})"
   ]
  },
  {
   "cell_type": "code",
   "execution_count": 14,
   "metadata": {},
   "outputs": [],
   "source": [
    "submission.to_csv('/home/leechh/tempfile/R/submission.csv')"
   ]
  }
 ],
 "metadata": {
  "kernelspec": {
   "display_name": "Python 3",
   "language": "python",
   "name": "python3"
  },
  "language_info": {
   "codemirror_mode": {
    "name": "ipython",
    "version": 3
   },
   "file_extension": ".py",
   "mimetype": "text/x-python",
   "name": "python",
   "nbconvert_exporter": "python",
   "pygments_lexer": "ipython3",
   "version": "3.6.6"
  }
 },
 "nbformat": 4,
 "nbformat_minor": 2
}
