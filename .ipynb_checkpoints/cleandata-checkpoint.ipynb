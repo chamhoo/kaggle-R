{
 "cells": [
  {
   "cell_type": "code",
   "execution_count": 1,
   "metadata": {},
   "outputs": [],
   "source": [
    "import json\n",
    "import os\n",
    "import numpy as np\n",
    "import pandas as pd\n",
    "import matplotlib.pyplot as plt\n",
    "from pandas.io.json import json_normalize\n",
    "from sklearn.preprocessing import LabelEncoder"
   ]
  },
  {
   "cell_type": "code",
   "execution_count": 2,
   "metadata": {},
   "outputs": [],
   "source": [
    "def load_df(csv_path, nrows=None):\n",
    "    JSON_COLUMNS = ['device', 'geoNetwork', 'totals', 'trafficSource']\n",
    "    df = pd.read_csv(csv_path, \n",
    "                     converters={column: json.loads for column in JSON_COLUMNS}, \n",
    "                     dtype={'fullVisitorId': 'str'}, # Important!!\n",
    "                     nrows=nrows)\n",
    "    for column in JSON_COLUMNS:\n",
    "        column_as_df = json_normalize(df[column])\n",
    "        column_as_df.columns = [f\"{column}_{subcolumn}\" for subcolumn in column_as_df.columns]\n",
    "        df = df.drop(column, axis=1).merge(column_as_df, right_index=True, left_index=True)\n",
    "    print(f\"Loaded {os.path.basename(csv_path)}. Shape: {df.shape}\")\n",
    "    return df\n",
    "\n",
    "\n",
    "def isgooglemc(day,num):\n",
    "    if day in num.index.values:\n",
    "        val = num[day]\n",
    "    else:\n",
    "        val = 0\n",
    "    return val"
   ]
  },
  {
   "cell_type": "code",
   "execution_count": 3,
   "metadata": {},
   "outputs": [],
   "source": [
    "def cleandata(path,isdf):\n",
    "    df = pd.read_feather(path)\n",
    "    #Time\n",
    "    df['date'] = pd.to_datetime(df.date, format='%Y%m%d')\n",
    "    df['week'] = df.date.apply(lambda t: t.dayofweek)\n",
    "    df['day'] = df.date.apply(lambda t: t.dayofyear)\n",
    "    #drop repeated feature\n",
    "    for i in df.columns:\n",
    "        if sum(df[i] == df[i][0]) == df.shape[0]:\n",
    "            df.drop([i], axis=1, inplace=True)\n",
    "    #geoNetwork\n",
    "    df['isnotavailable'] = df.geoNetwork_city == 'not available in demo dataset'\n",
    "    df['unknown'] = df.geoNetwork_networkDomain == 'unknown.unknown'\n",
    "    df['notset'] = df.geoNetwork_networkDomain == '(not set)'\n",
    "    df['notsetcity'] = df.geoNetwork_city == '(not set)'\n",
    "    df['notsetmetro'] = df.geoNetwork_metro == '(not set)'\n",
    "    df['isUS'] = df.geoNetwork_country == 'United States'\n",
    "    #totals\n",
    "    df.dropna(axis=0, inplace=True, subset=['totals_pageviews'])\n",
    "    df['totals_bounces'] = df.totals_bounces.fillna(0).astype('float')\n",
    "    df['totals_newVisits'] = df.totals_newVisits.fillna(0).astype('float')\n",
    "    df['totals_hits'] = df.totals_hits.astype('float')\n",
    "    df['totals_pageviews'] = df.totals_pageviews.astype('float')\n",
    "    #trafficSource\n",
    "    df['havegclid'] = df['trafficSource_adwordsClickInfo.gclId'].notnull()\n",
    "    df['istruedirect'] = (df.trafficSource_isTrueDirect.notnull()) & (df.channelGrouping != 'Direct') \n",
    "    df['path'] = df.trafficSource_source +  df.trafficSource_referralPath.fillna('') \n",
    "    df['isgoogleplex'] = df.path == 'mall.googleplex.com/'\n",
    "\n",
    "    adcontentidx = df.trafficSource_adContent == 'Google Merchandise Collection'\n",
    "    num = df[adcontentidx].day.value_counts()\n",
    "    df['keyadcontent'] = df.day.apply(isgooglemc, args=[num])\n",
    "    if isdf == True:\n",
    "        df['holiidx'] = (df.date > '2016-11-24') & (df.date < '2016-12-25')\n",
    "        df.drop(['trafficSource_campaignCode'],axis=1,inplace=True)\n",
    "    else:\n",
    "        df['holiidx'] = (df.date > '2017-11-23') & (df.date < '2017-12-25')   \n",
    "    #drop\n",
    "    droplist = [\n",
    "        'sessionId',\n",
    "        'date',\n",
    "        'device_isMobile',\n",
    "        'visitStartTime',\n",
    "        'geoNetwork_city',\n",
    "        'geoNetwork_region',\n",
    "        'geoNetwork_metro',\n",
    "        'geoNetwork_country',\n",
    "        'geoNetwork_networkDomain',\n",
    "        'trafficSource_adContent',\n",
    "        'trafficSource_adwordsClickInfo.gclId',\n",
    "        'trafficSource_medium',\n",
    "        'trafficSource_adwordsClickInfo.isVideoAd',\n",
    "        'trafficSource_adwordsClickInfo.adNetworkType',\n",
    "        'trafficSource_adwordsClickInfo.page',\n",
    "        'trafficSource_adwordsClickInfo.slot',\n",
    "        'trafficSource_keyword',\n",
    "        'trafficSource_campaign',\n",
    "        'trafficSource_source',\n",
    "        'trafficSource_referralPath',\n",
    "        'trafficSource_isTrueDirect',\n",
    "        'path',\n",
    "        'visitId',\n",
    "    ]\n",
    "    df.drop(droplist, axis=1, inplace=True)\n",
    "    return df\n",
    "    "
   ]
  },
  {
   "cell_type": "code",
   "execution_count": 4,
   "metadata": {},
   "outputs": [
    {
     "name": "stderr",
     "output_type": "stream",
     "text": [
      "/home/leechh/anaconda3/envs/DM/lib/python3.6/site-packages/pandas/io/feather_format.py:112: FutureWarning: `nthreads` argument is deprecated, pass `use_threads` instead\n",
      "  return feather.read_dataframe(path, nthreads=nthreads)\n"
     ]
    }
   ],
   "source": [
    "trainpath = '/home/leechh/桌面/tempfile/R/train.feather'\n",
    "\n",
    "train = cleandata(trainpath,True)"
   ]
  },
  {
   "cell_type": "code",
   "execution_count": 5,
   "metadata": {},
   "outputs": [],
   "source": [
    "testpath = '/home/leechh/桌面/tempfile/R/test.feather'\n",
    "\n",
    "test = cleandata(testpath,False)"
   ]
  },
  {
   "cell_type": "code",
   "execution_count": null,
   "metadata": {},
   "outputs": [],
   "source": [
    "train.head()"
   ]
  },
  {
   "cell_type": "code",
   "execution_count": 6,
   "metadata": {},
   "outputs": [],
   "source": [
    "#device\n",
    "devicelist = ['device_browser', 'device_operatingSystem']\n",
    "for i in devicelist:\n",
    "    deviceidx = train[i].value_counts().index[10:].values\n",
    "    train[i] = train[i].replace(deviceidx,'other')\n",
    "    test[i] = test[i].replace(deviceidx,'other')"
   ]
  },
  {
   "cell_type": "code",
   "execution_count": 7,
   "metadata": {},
   "outputs": [],
   "source": [
    "target = train.totals_transactionRevenue\n",
    "train.drop(['totals_transactionRevenue'], axis=1, inplace=True)"
   ]
  },
  {
   "cell_type": "code",
   "execution_count": 8,
   "metadata": {},
   "outputs": [],
   "source": [
    "testid = test.fullVisitorId\n",
    "test.drop(['fullVisitorId'], axis=1, inplace=True)\n",
    "train.drop(['fullVisitorId'], axis=1, inplace=True)"
   ]
  },
  {
   "cell_type": "code",
   "execution_count": 9,
   "metadata": {},
   "outputs": [],
   "source": [
    "lelist = ['channelGrouping',\n",
    "          'device_browser',\n",
    "          'device_deviceCategory',\n",
    "          'device_operatingSystem',\n",
    "          'geoNetwork_continent',\n",
    "          'geoNetwork_subContinent'\n",
    "         ]\n",
    "\n",
    "for col in lelist:\n",
    "    le = LabelEncoder()\n",
    "    fitlabel = le.fit(list(train[col].values)+list(test[col].values))\n",
    "    train[col] = le.transform(list(train[col].values))\n",
    "    test[col] = le.transform(list(test[col].values))"
   ]
  },
  {
   "cell_type": "code",
   "execution_count": 11,
   "metadata": {
    "scrolled": true
   },
   "outputs": [],
   "source": [
    "train = train.astype(dtype='float')\n",
    "test = test.astype(dtype='float')"
   ]
  },
  {
   "cell_type": "code",
   "execution_count": 13,
   "metadata": {},
   "outputs": [
    {
     "data": {
      "text/plain": [
       "(903553, 24)"
      ]
     },
     "execution_count": 13,
     "metadata": {},
     "output_type": "execute_result"
    }
   ],
   "source": [
    "train.shape"
   ]
  },
  {
   "cell_type": "code",
   "execution_count": 16,
   "metadata": {},
   "outputs": [
    {
     "data": {
      "text/plain": [
       "11515"
      ]
     },
     "execution_count": 16,
     "metadata": {},
     "output_type": "execute_result"
    }
   ],
   "source": [
    "sum(target.notnull())"
   ]
  },
  {
   "cell_type": "code",
   "execution_count": 19,
   "metadata": {},
   "outputs": [],
   "source": [
    "np.save('/home/leechh/tempfile/R/class2/x_train.npy',train.values)\n",
    "np.save('/home/leechh/tempfile/R/class2/y_train.npy',target.notnull().astype('float').values)\n",
    "np.save('/home/leechh/tempfile/R/class2/x_test.npy',test.values)\n",
    "np.save('/home/leechh/tempfile/R/class2/Id.npy',testid.values)"
   ]
  }
 ],
 "metadata": {
  "kernelspec": {
   "display_name": "Python 3",
   "language": "python",
   "name": "python3"
  },
  "language_info": {
   "codemirror_mode": {
    "name": "ipython",
    "version": 3
   },
   "file_extension": ".py",
   "mimetype": "text/x-python",
   "name": "python",
   "nbconvert_exporter": "python",
   "pygments_lexer": "ipython3",
   "version": "3.6.6"
  }
 },
 "nbformat": 4,
 "nbformat_minor": 2
}
