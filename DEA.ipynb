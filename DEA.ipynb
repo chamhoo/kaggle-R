{
 "cells": [
  {
   "cell_type": "code",
   "execution_count": 1,
   "metadata": {},
   "outputs": [],
   "source": [
    "import numpy as np\n",
    "import pandas as pd\n",
    "import os\n",
    "import time\n",
    "import json\n",
    "import gc\n",
    "from pandas.io.json import json_normalize\n",
    "from sklearn.preprocessing import LabelEncoder\n",
    "import matplotlib.pyplot as plt\n",
    "%matplotlib inline\n",
    "import seaborn as sns\n",
    "\n",
    "import warnings\n",
    "warnings.filterwarnings('ignore')"
   ]
  },
  {
   "cell_type": "markdown",
   "metadata": {},
   "source": [
    "### 第一步，我们先把json格式展开"
   ]
  },
  {
   "cell_type": "code",
   "execution_count": null,
   "metadata": {},
   "outputs": [],
   "source": [
    "def load_df(csv_path, nrows=None):\n",
    "    JSON_COLUMNS = ['device', 'geoNetwork', 'totals', 'trafficSource']\n",
    "    df = pd.read_csv(csv_path, \n",
    "                     converters={column: json.loads for column in JSON_COLUMNS}, \n",
    "                     dtype={'fullVisitorId': 'str'}, # Important!!\n",
    "                     nrows=nrows)\n",
    "    for column in JSON_COLUMNS:\n",
    "        column_as_df = json_normalize(df[column])\n",
    "        column_as_df.columns = [f\"{column}_{subcolumn}\" for subcolumn in column_as_df.columns]\n",
    "        df = df.drop(column, axis=1).merge(column_as_df, right_index=True, left_index=True)\n",
    "    print(f\"Loaded {os.path.basename(csv_path)}. Shape: {df.shape}\")\n",
    "    return df"
   ]
  },
  {
   "cell_type": "code",
   "execution_count": null,
   "metadata": {
    "scrolled": true
   },
   "outputs": [],
   "source": [
    "train = load_df('/users/lichanghao/data/R/train.csv')\n",
    "gc.collect()"
   ]
  },
  {
   "cell_type": "code",
   "execution_count": null,
   "metadata": {},
   "outputs": [],
   "source": [
    "train.to_hdf('/users/lichanghao/tempfile/train.h5','train')"
   ]
  },
  {
   "cell_type": "code",
   "execution_count": 2,
   "metadata": {},
   "outputs": [],
   "source": [
    "train = pd.read_feather('/home/leechh/tempfile/R/train.feather')"
   ]
  },
  {
   "cell_type": "code",
   "execution_count": 3,
   "metadata": {},
   "outputs": [
    {
     "data": {
      "text/html": [
       "<div>\n",
       "<style scoped>\n",
       "    .dataframe tbody tr th:only-of-type {\n",
       "        vertical-align: middle;\n",
       "    }\n",
       "\n",
       "    .dataframe tbody tr th {\n",
       "        vertical-align: top;\n",
       "    }\n",
       "\n",
       "    .dataframe thead th {\n",
       "        text-align: right;\n",
       "    }\n",
       "</style>\n",
       "<table border=\"1\" class=\"dataframe\">\n",
       "  <thead>\n",
       "    <tr style=\"text-align: right;\">\n",
       "      <th></th>\n",
       "      <th>channelGrouping</th>\n",
       "      <th>date</th>\n",
       "      <th>fullVisitorId</th>\n",
       "      <th>sessionId</th>\n",
       "      <th>socialEngagementType</th>\n",
       "      <th>visitId</th>\n",
       "      <th>visitNumber</th>\n",
       "      <th>visitStartTime</th>\n",
       "      <th>device_browser</th>\n",
       "      <th>device_browserSize</th>\n",
       "      <th>...</th>\n",
       "      <th>trafficSource_adwordsClickInfo.isVideoAd</th>\n",
       "      <th>trafficSource_adwordsClickInfo.page</th>\n",
       "      <th>trafficSource_adwordsClickInfo.slot</th>\n",
       "      <th>trafficSource_campaign</th>\n",
       "      <th>trafficSource_campaignCode</th>\n",
       "      <th>trafficSource_isTrueDirect</th>\n",
       "      <th>trafficSource_keyword</th>\n",
       "      <th>trafficSource_medium</th>\n",
       "      <th>trafficSource_referralPath</th>\n",
       "      <th>trafficSource_source</th>\n",
       "    </tr>\n",
       "  </thead>\n",
       "  <tbody>\n",
       "    <tr>\n",
       "      <th>0</th>\n",
       "      <td>Organic Search</td>\n",
       "      <td>20160902</td>\n",
       "      <td>1131660440785968503</td>\n",
       "      <td>1131660440785968503_1472830385</td>\n",
       "      <td>Not Socially Engaged</td>\n",
       "      <td>1472830385</td>\n",
       "      <td>1</td>\n",
       "      <td>1472830385</td>\n",
       "      <td>Chrome</td>\n",
       "      <td>not available in demo dataset</td>\n",
       "      <td>...</td>\n",
       "      <td>None</td>\n",
       "      <td>None</td>\n",
       "      <td>None</td>\n",
       "      <td>(not set)</td>\n",
       "      <td>None</td>\n",
       "      <td>None</td>\n",
       "      <td>(not provided)</td>\n",
       "      <td>organic</td>\n",
       "      <td>None</td>\n",
       "      <td>google</td>\n",
       "    </tr>\n",
       "    <tr>\n",
       "      <th>1</th>\n",
       "      <td>Organic Search</td>\n",
       "      <td>20160902</td>\n",
       "      <td>377306020877927890</td>\n",
       "      <td>377306020877927890_1472880147</td>\n",
       "      <td>Not Socially Engaged</td>\n",
       "      <td>1472880147</td>\n",
       "      <td>1</td>\n",
       "      <td>1472880147</td>\n",
       "      <td>Firefox</td>\n",
       "      <td>not available in demo dataset</td>\n",
       "      <td>...</td>\n",
       "      <td>None</td>\n",
       "      <td>None</td>\n",
       "      <td>None</td>\n",
       "      <td>(not set)</td>\n",
       "      <td>None</td>\n",
       "      <td>None</td>\n",
       "      <td>(not provided)</td>\n",
       "      <td>organic</td>\n",
       "      <td>None</td>\n",
       "      <td>google</td>\n",
       "    </tr>\n",
       "    <tr>\n",
       "      <th>2</th>\n",
       "      <td>Organic Search</td>\n",
       "      <td>20160902</td>\n",
       "      <td>3895546263509774583</td>\n",
       "      <td>3895546263509774583_1472865386</td>\n",
       "      <td>Not Socially Engaged</td>\n",
       "      <td>1472865386</td>\n",
       "      <td>1</td>\n",
       "      <td>1472865386</td>\n",
       "      <td>Chrome</td>\n",
       "      <td>not available in demo dataset</td>\n",
       "      <td>...</td>\n",
       "      <td>None</td>\n",
       "      <td>None</td>\n",
       "      <td>None</td>\n",
       "      <td>(not set)</td>\n",
       "      <td>None</td>\n",
       "      <td>None</td>\n",
       "      <td>(not provided)</td>\n",
       "      <td>organic</td>\n",
       "      <td>None</td>\n",
       "      <td>google</td>\n",
       "    </tr>\n",
       "  </tbody>\n",
       "</table>\n",
       "<p>3 rows × 55 columns</p>\n",
       "</div>"
      ],
      "text/plain": [
       "  channelGrouping      date        fullVisitorId  \\\n",
       "0  Organic Search  20160902  1131660440785968503   \n",
       "1  Organic Search  20160902   377306020877927890   \n",
       "2  Organic Search  20160902  3895546263509774583   \n",
       "\n",
       "                        sessionId  socialEngagementType     visitId  \\\n",
       "0  1131660440785968503_1472830385  Not Socially Engaged  1472830385   \n",
       "1   377306020877927890_1472880147  Not Socially Engaged  1472880147   \n",
       "2  3895546263509774583_1472865386  Not Socially Engaged  1472865386   \n",
       "\n",
       "   visitNumber  visitStartTime device_browser             device_browserSize  \\\n",
       "0            1      1472830385         Chrome  not available in demo dataset   \n",
       "1            1      1472880147        Firefox  not available in demo dataset   \n",
       "2            1      1472865386         Chrome  not available in demo dataset   \n",
       "\n",
       "          ...          trafficSource_adwordsClickInfo.isVideoAd  \\\n",
       "0         ...                                              None   \n",
       "1         ...                                              None   \n",
       "2         ...                                              None   \n",
       "\n",
       "  trafficSource_adwordsClickInfo.page trafficSource_adwordsClickInfo.slot  \\\n",
       "0                                None                                None   \n",
       "1                                None                                None   \n",
       "2                                None                                None   \n",
       "\n",
       "   trafficSource_campaign trafficSource_campaignCode  \\\n",
       "0               (not set)                       None   \n",
       "1               (not set)                       None   \n",
       "2               (not set)                       None   \n",
       "\n",
       "  trafficSource_isTrueDirect trafficSource_keyword trafficSource_medium  \\\n",
       "0                       None        (not provided)              organic   \n",
       "1                       None        (not provided)              organic   \n",
       "2                       None        (not provided)              organic   \n",
       "\n",
       "  trafficSource_referralPath trafficSource_source  \n",
       "0                       None               google  \n",
       "1                       None               google  \n",
       "2                       None               google  \n",
       "\n",
       "[3 rows x 55 columns]"
      ]
     },
     "execution_count": 3,
     "metadata": {},
     "output_type": "execute_result"
    }
   ],
   "source": [
    "train.head(3)"
   ]
  },
  {
   "cell_type": "markdown",
   "metadata": {},
   "source": [
    "### totals_transactionRevenue"
   ]
  },
  {
   "cell_type": "markdown",
   "metadata": {},
   "source": [
    "首先呢，我们先看看我们要预测的transactionRevenue 大概是什么样，"
   ]
  },
  {
   "cell_type": "code",
   "execution_count": null,
   "metadata": {},
   "outputs": [],
   "source": [
    "train['totals_transactionRevenue'] = train.totals_transactionRevenue.astype('float')"
   ]
  },
  {
   "cell_type": "code",
   "execution_count": null,
   "metadata": {},
   "outputs": [],
   "source": [
    "def plotRevence():\n",
    "    idx = train.totals_transactionRevenue.notnull()\n",
    "    nozero = sum(idx)\n",
    "    iszero = train.shape[0] - nozero\n",
    "    plt.figure(figsize=[14,6])\n",
    "    plt.subplot(1,2,1)\n",
    "    plt.pie([nozero,iszero],\n",
    "            labels=[f'{nozero} nozero',f'{iszero} iszero'],\n",
    "            radius=1,\n",
    "            colors=['salmon','lightgray'], \n",
    "            explode=[0.3,0])\n",
    "    plt.title('transactionRevenue')\n",
    "\n",
    "    plt.subplot(1,3,3)\n",
    "    revenue = np.log1p(train[idx].totals_transactionRevenue.astype('float')+1)\n",
    "    plt.hist(revenue, \n",
    "             bins=200, \n",
    "             color='lightgray')\n",
    "    plt.plot([np.average(revenue),np.average(revenue)],[0,500],c='salmon',linestyle='--')\n",
    "    plt.title('non-zero transactionRevenue')\n",
    "    plt.show()\n",
    "    return None\n",
    "\n",
    "\n",
    "plotRevence()"
   ]
  },
  {
   "cell_type": "code",
   "execution_count": null,
   "metadata": {},
   "outputs": [],
   "source": [
    "train['target'] = np.log1p(train.totals_transactionRevenue.fillna(0,inplace=False))"
   ]
  },
  {
   "cell_type": "markdown",
   "metadata": {},
   "source": [
    "我们可以看到，可以说20/80法则发挥着决定性的作用，绝大多数的点击量都是没有成交的，只有大概百分之一的进入是会成交的，而在成交的金额上，在经过ln之后基本符合正态分布，这是个不错的开始。"
   ]
  },
  {
   "cell_type": "markdown",
   "metadata": {},
   "source": [
    "### channelGrouping "
   ]
  },
  {
   "cell_type": "code",
   "execution_count": null,
   "metadata": {},
   "outputs": [],
   "source": [
    "def plotchannel():\n",
    "    channel = train.channelGrouping.value_counts(dropna=True,normalize=True).sort_index()\n",
    "    idx = train.totals_transactionRevenue.notnull()\n",
    "    channel2 = train[idx].channelGrouping.value_counts(dropna=True,normalize=True).sort_index()\n",
    "    channelmean = train.groupby('channelGrouping').mean().totals_transactionRevenue\n",
    "    channelpercentage = train[idx].channelGrouping.value_counts(dropna=True,normalize=False)/ train.channelGrouping.value_counts(dropna=True,normalize=False)\n",
    "\n",
    "    plt.figure(figsize=[10,15])\n",
    "    plt.subplot(3,1,1)\n",
    "    plt.bar(np.arange(channel.shape[0])+1,\n",
    "            channel.values,\n",
    "            width=np.ones(8)*0.2,\n",
    "            facecolor='lightgray',\n",
    "            edgecolor='lightgray',\n",
    "            tick_label=channel.index.values,\n",
    "            label='with zero data')\n",
    "    plt.bar(np.arange(channel2.shape[0])+0.8,\n",
    "            channel2.values,\n",
    "            width=np.ones(8)*0.2,\n",
    "            facecolor='gray',\n",
    "            edgecolor='gray',\n",
    "            tick_label=channel.index.values,\n",
    "            label='without zero data')\n",
    "    plt.title('channelGrouping with iszero data')\n",
    "    plt.legend()\n",
    "\n",
    "    plt.subplot(3,1,2)\n",
    "    plt.bar(np.arange(channel2.shape[0])+1,\n",
    "            np.log1p(channelmean.values+1),\n",
    "            facecolor='gray',\n",
    "            width=np.ones(8)*0.2,\n",
    "            edgecolor='gray',\n",
    "            tick_label=channelmean.index.values)\n",
    "    plt.plot(np.arange(channel2.shape[0])+1,np.log1p(channelmean.values+1),'.--',c='salmon')\n",
    "    plt.title('channelGrouping mean')\n",
    "    plt.ylim([0,40])\n",
    "\n",
    "    plt.subplot(3,1,3)\n",
    "    plt.bar(np.arange(channelpercentage.shape[0])+1,\n",
    "            channelpercentage.values,\n",
    "            facecolor='gray',\n",
    "            width=np.ones(8)*0.2,\n",
    "            edgecolor='gray',\n",
    "            tick_label=channelpercentage.index.values)\n",
    "    plt.plot(np.arange(channel2.shape[0])+1,channelpercentage.values,'.--',c='salmon')\n",
    "    plt.title('channelGrouping precentage')\n",
    "    plt.ylim([0,0.07])\n",
    "    plt.show()\n",
    "    return None\n",
    "\n",
    "plotchannel()"
   ]
  },
  {
   "cell_type": "markdown",
   "metadata": {},
   "source": [
    "第一类：市场投放活动（Campaigns）\n",
    "　　这一类比较常见的是付费关键词即Adwords，如果是Adwords，你不用加码，GA也能非常好的识别出来。当然如果你给自己的某个外部投放加上码，GA也会认为它是一个投放活动。投放活动在GA所有流量来源里，优先级别是最高的。\n",
    "\n",
    "第二类：自然搜索（Organic）\n",
    "　　这个大家很理解，就是Google和Baidu等自然搜索引入的流量。它对于GA来说，优先级别与Adwords是一样的。\n",
    "\n",
    "第三类：推介网站（Referral）\n",
    "　　这一渠道的流量主要是指从其他网站点过来的链接，比如友情链接等，这类来源通常是免费的。这一来源的优先级别低于市场投放活动和自然搜索。\n",
    "\n",
    "第四类：直接输入（Direct）\n",
    "　　直接输入包括几个方面，一个是直接在地址里输入网站，第二个是利用收藏夹与标签，第三个是从桌面软件，比如从QQ，MSN等软件点过来的链接，第四个是如果无法判别流量来源的话，也会归入直接输入。这个来源的优先级是最低的，大家抢的都是这个流量。\n",
    "\n",
    "结论： 由上图我们可以看出，social项拥有很高的浏览量，但是成交比很低，很多人都只是单纯的点进来看看，并没有买任何东西。social项很可能指的是网站在社交媒体上投放广告。反之Referral项虽然没有太多的浏览量，但是成交比却很高。 当然，关键词广告自然搜索所占浏览量很大，但是成交比并不大。"
   ]
  },
  {
   "cell_type": "markdown",
   "metadata": {},
   "source": [
    "### 我觉得seesionId 应该就是fullvisitId 与 visitId 的结合，验证以下，如果是的话，我们就可以把 这个features去掉了。"
   ]
  },
  {
   "cell_type": "code",
   "execution_count": null,
   "metadata": {},
   "outputs": [],
   "source": [
    "print('fullvisitId sess diff:',sum(train.sessionId.str.split('_',expand=True)[0] != train.fullVisitorId))\n",
    "print('visitId sess diff:',sum(train.sessionId.str.split('_',expand=True)[1] != train.visitId.astype('str')))"
   ]
  },
  {
   "cell_type": "code",
   "execution_count": null,
   "metadata": {},
   "outputs": [],
   "source": [
    "train.drop(['sessionId'],axis=1,inplace=True)"
   ]
  },
  {
   "cell_type": "markdown",
   "metadata": {},
   "source": [
    "### 接下来，把时间date转化为时间格式"
   ]
  },
  {
   "cell_type": "code",
   "execution_count": 4,
   "metadata": {},
   "outputs": [],
   "source": [
    "train['date'] = pd.to_datetime(train.date,format='%Y%m%d')\n"
   ]
  },
  {
   "cell_type": "code",
   "execution_count": null,
   "metadata": {},
   "outputs": [],
   "source": [
    "holiidx = (train.date > '2016-11-24') & (train.date < '2016-12-25')"
   ]
  },
  {
   "cell_type": "code",
   "execution_count": null,
   "metadata": {},
   "outputs": [],
   "source": [
    "\n",
    "\n",
    "def plotdate():\n",
    "    idx = train.totals_transactionRevenue.notnull()\n",
    "    datetime1 = train[idx].date.value_counts(normalize=True).sort_index()\n",
    "    datetime2 = train.date.value_counts(normalize=True).sort_index()\n",
    "    \n",
    "    date1 =  train[idx].date.value_counts().sort_index()\n",
    "    date2 = train.date.value_counts().sort_index()\n",
    "    \n",
    "    tofirst = np.array([i.days for i in train[idx].date-datetime1.index.values[0]])\n",
    "    plt.figure(figsize=[30,15])\n",
    "    plt.subplot(3,1,1)\n",
    "    plt.title(f'Daily turnover,from {datetime1.index.values[0]} to {datetime1.index.values[-1]}')\n",
    "    plt.plot(np.arange(datetime1.shape[0])+1,\n",
    "             datetime1.values,\n",
    "             '.-',\n",
    "             c='gray',\n",
    "             label='no zero data')\n",
    "    plt.plot(np.arange(datetime2.shape[0])+1,\n",
    "             datetime2.values,\n",
    "             '.-',\n",
    "             c='salmon',label='have zero data')\n",
    "    plt.grid()\n",
    "    plt.legend()\n",
    "    \n",
    "    plt.subplot(3,1,2)\n",
    "    plt.plot(np.arange(date2.shape[0]),\n",
    "             (date1/date2).values,\n",
    "             '.-',\n",
    "             c='salmon',\n",
    "             label='probability')\n",
    "    plt.grid()\n",
    "    plt.legend()\n",
    "    \n",
    "    plt.subplot(3,1,3)\n",
    "    plt.scatter(tofirst,np.log1p(train[idx].totals_transactionRevenue+1),s=0.5,alpha=1,c='gray')\n",
    "    plt.ylim([12,22])\n",
    "    plt.show()\n",
    "    return None\n",
    "\n",
    "\n",
    "plotdate()"
   ]
  },
  {
   "cell_type": "markdown",
   "metadata": {},
   "source": [
    "从这个图我们可以看出一些特别有趣的现象，首先浏览量是以一周为周期变化的，所以我们应该创建一个UTC星期特征。但是，由下图可知，时间与金额无关。"
   ]
  },
  {
   "cell_type": "code",
   "execution_count": null,
   "metadata": {},
   "outputs": [],
   "source": [
    "train['week'] = train.date.apply(lambda t: t.dayofweek)"
   ]
  },
  {
   "cell_type": "markdown",
   "metadata": {},
   "source": [
    "我们创建一个新的特征 holiday，可以标记处是否处于感恩节以及圣诞节假期"
   ]
  },
  {
   "cell_type": "code",
   "execution_count": null,
   "metadata": {},
   "outputs": [],
   "source": [
    "pd.Timestamp('2016-12-25')-pd.Timestamp('2016-8-1')"
   ]
  },
  {
   "cell_type": "code",
   "execution_count": null,
   "metadata": {},
   "outputs": [],
   "source": [
    "idx = train.trafficSource_adContent == 'Google Merchandise Collection'\n",
    "\n",
    "date1 =  train[idx].date.value_counts().sort_index()\n",
    "date2 = train.date.value_counts().sort_index()\n",
    "plt.figure(figsize=[15,3])\n",
    "plt.plot(np.arange(date2.shape[0]),\n",
    "         (date1/date2).values,\n",
    "         '.-',\n",
    "         c='salmon',\n",
    "         label='probability')\n",
    "plt.grid()\n",
    "plt.legend()\n"
   ]
  },
  {
   "cell_type": "markdown",
   "metadata": {},
   "source": [
    "题外话：这个图解释了广告是怎么影响销售量的，在第200天左右投放的一条脍炙人口的广告，与销售量几乎同时上涨。所以我们可以创建一个新的特征，googAD，这个特征指的是一个很火的广告存在的时期。"
   ]
  },
  {
   "cell_type": "code",
   "execution_count": null,
   "metadata": {},
   "outputs": [],
   "source": [
    "idx = train.trafficSource_adContent == 'Google Merchandise Collection'\n",
    "holi = train[idx].date.apply(lambda t: t.dayofyear).values\n",
    "train['goodAD'] = train.date.apply(lambda t: t.dayofyear in holi)"
   ]
  },
  {
   "cell_type": "markdown",
   "metadata": {},
   "source": [
    "### socialEngagementType"
   ]
  },
  {
   "cell_type": "code",
   "execution_count": null,
   "metadata": {},
   "outputs": [],
   "source": [
    "idx = (train.socialEngagementType != 'Not Socially Engaged')\n",
    "sum(idx)"
   ]
  },
  {
   "cell_type": "code",
   "execution_count": null,
   "metadata": {},
   "outputs": [],
   "source": [
    "train.drop(['socialEngagementType'], axis=1, inplace=True)"
   ]
  },
  {
   "cell_type": "code",
   "execution_count": null,
   "metadata": {},
   "outputs": [],
   "source": [
    "train.head()"
   ]
  },
  {
   "cell_type": "markdown",
   "metadata": {},
   "source": [
    "### visitNumber"
   ]
  },
  {
   "cell_type": "code",
   "execution_count": null,
   "metadata": {},
   "outputs": [],
   "source": [
    "def plotvisitnumber():\n",
    "    idx = (train.totals_transactionRevenue.notnull())\n",
    "    vn1 = train.visitNumber.value_counts(dropna=False)[0:20]\n",
    "    vn2 = train[idx].visitNumber.value_counts(dropna=False)[0:20]\n",
    "    plt.figure(figsize=[20,7])\n",
    "    plt.subplot(1,2,1)\n",
    "    plt.bar(np.arange(vn1.shape[0])+1,\n",
    "            vn1.values,\n",
    "            facecolor='lightgray',\n",
    "            width=np.ones(20)*0.25,\n",
    "            edgecolor='lightgray',\n",
    "            tick_label=vn1.index.values)\n",
    "    plt.plot(np.arange(vn1.shape[0])+1,\n",
    "             vn1.values,'.--', \n",
    "             c='salmon')\n",
    "    plt.title('visitNumber with zero data')\n",
    "    plt.grid()\n",
    "    plt.subplot(1,2,2)\n",
    "    plt.bar(np.arange(vn2.shape[0])+1,\n",
    "            vn2.values,\n",
    "            facecolor='lightgray',\n",
    "            width=np.ones(20)*0.25,\n",
    "            edgecolor='lightgray',\n",
    "            tick_label=vn2.index.values)\n",
    "    plt.plot(np.arange(vn2.shape[0])+1,\n",
    "             vn2.values,'.--', \n",
    "             c='salmon')\n",
    "    plt.title('visitNumber without zero data')\n",
    "    plt.grid()\n",
    "    plt.show()\n",
    "    return None\n",
    "\n",
    "\n",
    "plotvisitnumber()"
   ]
  },
  {
   "cell_type": "code",
   "execution_count": null,
   "metadata": {},
   "outputs": [],
   "source": [
    "plt.scatter(train.visitNumber,train.totals_transactionRevenue/10**(6),s=0.5,alpha=0.5,c='salmon')\n",
    "plt.xlim([0,50])"
   ]
  },
  {
   "cell_type": "markdown",
   "metadata": {},
   "source": [
    "我们可以看到，visitNumber及其不平衡，大多数为1，由kaggle官方提供的说明，If this is the first session, then this is set to 1，所以大多数都是用户初次访问,但是对于成交的浏览来说，曲线更平缓一些。但是成交金额与浏览次数没有线性关系"
   ]
  },
  {
   "cell_type": "markdown",
   "metadata": {},
   "source": [
    "### visitStartTime\n",
    "The timestamp (expressed as POSIX time)， so we convert it to a pd.datatime"
   ]
  },
  {
   "cell_type": "code",
   "execution_count": null,
   "metadata": {},
   "outputs": [],
   "source": [
    "def totime(t):\n",
    "    year = time.localtime(t)[0]\n",
    "    month = time.localtime(t)[1]\n",
    "    day = time.localtime(t)[2]\n",
    "    hour = time.localtime(t)[3]\n",
    "    minute = time.localtime(t)[4]\n",
    "    second = time.localtime(t)[5]\n",
    "    return pd.Timestamp(year,month,day,hour,minute,second)\n",
    "\n",
    "\n",
    "train['visitStartTime'] = train.visitStartTime.map(totime)"
   ]
  },
  {
   "cell_type": "markdown",
   "metadata": {},
   "source": [
    "这个features, 因为使用的是UTC，所以在时间上面有一定偏移，在之后的工作中，如果我们能否通过所在地区找到其时区，便能探索具体时间对于结果的影响。"
   ]
  },
  {
   "cell_type": "markdown",
   "metadata": {},
   "source": [
    "### 去掉重复features"
   ]
  },
  {
   "cell_type": "code",
   "execution_count": null,
   "metadata": {},
   "outputs": [],
   "source": [
    "for i in train.columns:\n",
    "    if sum(train[i] == train[i][0]) == train.shape[0]:\n",
    "        train.drop([i], axis=1, inplace=True)\n",
    "print(f'After drop feature Number is: {train.shape[1]}')"
   ]
  },
  {
   "cell_type": "markdown",
   "metadata": {},
   "source": [
    "### device"
   ]
  },
  {
   "cell_type": "code",
   "execution_count": null,
   "metadata": {},
   "outputs": [],
   "source": [
    "train.iloc[:,6:10].head()"
   ]
  },
  {
   "cell_type": "code",
   "execution_count": null,
   "metadata": {},
   "outputs": [],
   "source": [
    "# 我们去掉device_isMobile\n",
    "train.drop(['device_isMobile'], axis=1, inplace=True)"
   ]
  },
  {
   "cell_type": "markdown",
   "metadata": {},
   "source": [
    "我们可以看到device_operatingSystem 有较多(not set)项目 "
   ]
  },
  {
   "cell_type": "code",
   "execution_count": null,
   "metadata": {},
   "outputs": [],
   "source": [
    "def plotdevice(df,top=10):\n",
    "    n = 1\n",
    "    plt.figure(figsize=[20,10])\n",
    "    for i in df.columns[6:9]:\n",
    "        idx = train.totals_transactionRevenue.notnull()\n",
    "        value_count1 = train[i].value_counts(dropna=True,normalize=True)[0:top]\n",
    "        value_count2 = train[idx][i].value_counts(dropna=True,normalize=True)[0:top]\n",
    "        plt.subplot(2,3,n)\n",
    "        plt.bar(np.arange(value_count1.shape[0])+1,\n",
    "                value_count1.values,           \n",
    "                width=np.ones(value_count1.shape[0])*0.2,\n",
    "                facecolor='lightgray',\n",
    "                edgecolor='lightgray',\n",
    "                tick_label=value_count1.index.values,\n",
    "                label='have zero data')\n",
    "        plt.legend()\n",
    "        plt.title(f'{i},{sum(train[i].isnull())} NaN data')\n",
    "        plt.grid()\n",
    "        plt.subplot(2,3,n+3)\n",
    "        plt.grid()\n",
    "        plt.bar(np.arange(value_count2.shape[0])+1.2,\n",
    "                value_count2.values,           \n",
    "                width=np.ones(value_count2.shape[0])*0.2,\n",
    "                facecolor='gray',\n",
    "                edgecolor='gray',\n",
    "                tick_label=value_count2.index.values,\n",
    "                label='no zero data')\n",
    "        plt.legend()\n",
    "        n = n+1\n",
    "    plt.show()\n",
    "    return None\n",
    "\n",
    "\n",
    "plotdevice(train,top=5)"
   ]
  },
  {
   "cell_type": "code",
   "execution_count": null,
   "metadata": {},
   "outputs": [],
   "source": [
    "idx = train.device_browser.value_counts().index[10:-1].values\n",
    "train.device_browser.replace(idx,'other').value_counts()"
   ]
  },
  {
   "cell_type": "code",
   "execution_count": null,
   "metadata": {},
   "outputs": [],
   "source": [
    "train.device_browser.unique()"
   ]
  },
  {
   "cell_type": "markdown",
   "metadata": {},
   "source": [
    "我们可以看到，虽然chrome浏览器拥有较高的市场占有率，但是chrome用户也拥有更高的购买热情，可能都是google的死忠？ps:I use firefox.: )   \n",
    "以及大家用桌面机的时候更倾向于交易，可能是交易需要信用卡等等信息，比较麻烦，或者单纯因为app做的不好？有趣的是mac用户拥有更高的交易意愿，可能是因为Mac比较贵？\n"
   ]
  },
  {
   "cell_type": "markdown",
   "metadata": {},
   "source": [
    "### geoNetwork"
   ]
  },
  {
   "cell_type": "code",
   "execution_count": null,
   "metadata": {},
   "outputs": [],
   "source": [
    "train.iloc[:,9:16].head()"
   ]
  },
  {
   "cell_type": "code",
   "execution_count": null,
   "metadata": {},
   "outputs": [],
   "source": [
    "def plotgeonetwork(df,top=10):\n",
    "    n = 1\n",
    "    plt.figure(figsize=[20,40])\n",
    "    for i in df.columns[9:16]:\n",
    "        idx = df.totals_transactionRevenue.notnull()\n",
    "        value_count1 = df[i].value_counts(dropna=True,normalize=True)[0:top]\n",
    "        value_count2 = df[idx][i].value_counts(dropna=True,normalize=True)[0:top]\n",
    "        plt.subplot(7,2,n)\n",
    "        plt.bar(np.arange(value_count1.shape[0])+1,\n",
    "                value_count1.values,           \n",
    "                width=np.ones(value_count1.shape[0])*0.2,\n",
    "                facecolor='lightgray',\n",
    "                edgecolor='lightgray',\n",
    "                tick_label=value_count1.index.values,\n",
    "                label='have zero data')\n",
    "        plt.legend()\n",
    "        plt.title(f'{i},unique is: {df[i].nunique()},num is: {sum(df[i].notnull())}')\n",
    "        plt.grid()\n",
    "        plt.subplot(7,2,n+1)\n",
    "        plt.grid()\n",
    "        plt.bar(np.arange(value_count2.shape[0])+1.2,\n",
    "                value_count2.values,           \n",
    "                width=np.ones(value_count2.shape[0])*0.2,\n",
    "                facecolor='gray',\n",
    "                edgecolor='gray',\n",
    "                tick_label=value_count2.index.values,\n",
    "                label='no zero data')\n",
    "        plt.title(f'{i},unique is: {df[idx][i].nunique()},num is: {sum(df[idx][i].notnull())}')\n",
    "        plt.legend()\n",
    "        n = n+2\n",
    "    plt.show()\n",
    "    return None\n",
    "\n",
    "\n",
    "plotgeonetwork(train,top=5)"
   ]
  },
  {
   "cell_type": "markdown",
   "metadata": {},
   "source": [
    "我们似乎可以看到，尽管全球都有浏览量，但是貌似绝大多数都是美国人在购买，并且这几个features都存在大量诸如not set，not available in demo dataset 之类的变量，之后我们要看看造成这种现象的原因。 "
   ]
  },
  {
   "cell_type": "code",
   "execution_count": null,
   "metadata": {
    "scrolled": true
   },
   "outputs": [],
   "source": [
    "index =  train.geoNetwork_city == 'not available in demo dataset'\n",
    "plotgeonetwork(train[index],top=5)"
   ]
  },
  {
   "cell_type": "markdown",
   "metadata": {},
   "source": [
    "啊哈，一个有趣的发现，那就是city中的的not available in demo dataset其实是在city，metro,region都是not available in demo dataset的。而在其他几项中并没有明显不同"
   ]
  },
  {
   "cell_type": "code",
   "execution_count": null,
   "metadata": {},
   "outputs": [],
   "source": [
    "train['is not available'] = train.geoNetwork_city == 'not available in demo dataset'"
   ]
  },
  {
   "cell_type": "code",
   "execution_count": null,
   "metadata": {},
   "outputs": [],
   "source": [
    "idx = train['is not available'] == True\n",
    "idx2 = train.totals_transactionRevenue.notnull()\n",
    "print(sum(idx),sum(idx & idx2))"
   ]
  },
  {
   "cell_type": "markdown",
   "metadata": {},
   "source": [
    "创建一个特征 domain，这个特征是由于 geoNetwork_networkDomain 中的  'unknown.unknown' 在正反例中波动过大，所以针对是否是 'unknown.unknown' ，是否是(not set) 设立成一个特征。然后就可以删除掉 geoNetwork_networkDomain.     \n",
    "创建特征 notsetcity 与 notsetmetro ，因为这两个特征为 True 时，大概率属于亚洲地区，购买的意愿会大幅度降低，可能是因为运费或者价格太贵。\n",
    "创建特征 isUS ，当国家为 US 时为True。"
   ]
  },
  {
   "cell_type": "markdown",
   "metadata": {},
   "source": [
    "### 建议：\n",
    "删除掉'geoNetwork_city'，'geoNetwork_region'，'geoNetwork_metro'，'geoNetwork_country'"
   ]
  },
  {
   "cell_type": "markdown",
   "metadata": {},
   "source": [
    "### totals"
   ]
  },
  {
   "cell_type": "code",
   "execution_count": null,
   "metadata": {},
   "outputs": [],
   "source": [
    "train.iloc[:,16:20].head()"
   ]
  },
  {
   "cell_type": "code",
   "execution_count": null,
   "metadata": {},
   "outputs": [],
   "source": [
    "train['totals_bounces'] = train.totals_bounces.fillna(0)\n",
    "train['totals_newVisits'] = train.totals_newVisits.fillna(0)\n"
   ]
  },
  {
   "cell_type": "code",
   "execution_count": null,
   "metadata": {},
   "outputs": [],
   "source": [
    "train.iloc[:,16:20].head()"
   ]
  },
  {
   "cell_type": "code",
   "execution_count": null,
   "metadata": {
    "scrolled": false
   },
   "outputs": [],
   "source": [
    "def plottotals(df,top=5):\n",
    "    n = 1\n",
    "    plt.figure(figsize=[10,20])\n",
    "    for i in df.columns[16:20]:\n",
    "        idx = df.totals_transactionRevenue.notnull()\n",
    "        value_count1 = df[i].value_counts(dropna=True,normalize=True)[0:top]\n",
    "        value_count2 = df[idx][i].value_counts(dropna=True,normalize=True)[0:top]\n",
    "        plt.subplot(4,2,n)\n",
    "        plt.bar(np.arange(value_count1.shape[0])+1,\n",
    "                value_count1.values,           \n",
    "                width=np.ones(value_count1.shape[0])*0.2,\n",
    "                facecolor='lightgray',\n",
    "                edgecolor='lightgray',\n",
    "                tick_label=value_count1.index.values,\n",
    "                label='have zero data')\n",
    "        plt.legend()\n",
    "        plt.title(f'{i},unique is: {df[i].nunique()}')\n",
    "        plt.grid()\n",
    "        plt.subplot(4,2,n+1)\n",
    "        plt.grid()\n",
    "        plt.bar(np.arange(value_count2.shape[0])+1.2,\n",
    "                value_count2.values,           \n",
    "                width=np.ones(value_count2.shape[0])*0.2,\n",
    "                facecolor='gray',\n",
    "                edgecolor='gray',\n",
    "                tick_label=value_count2.index.values,\n",
    "                label='no zero data')\n",
    "        plt.title(f'{i},unique is: {df[idx][i].nunique()}')\n",
    "        plt.legend()\n",
    "        n = n+2\n",
    "    plt.show()\n",
    "    return None\n",
    "\n",
    "\n",
    "plottotals(train,top=20)"
   ]
  },
  {
   "cell_type": "markdown",
   "metadata": {},
   "source": [
    "emmmm~,一个了不起的发现，最终预测结果是否为0与totals_bounces相关，如果bounces=1则交易必然失败，但如果为0，也不一定成功。并且如果点击量与网页浏览量在10到30之间，则很有可能交易成功，并且我们还可以看到，老顾客购物意愿比从其他途径来的新客户更强烈。"
   ]
  },
  {
   "cell_type": "code",
   "execution_count": null,
   "metadata": {},
   "outputs": [],
   "source": [
    "train['totals_bounces'] = train.totals_bounces.astype('float')\n",
    "train['totals_hits'] = train.totals_hits.astype('float')\n",
    "train['totals_newVisits'] = train.totals_newVisits.astype('float')\n",
    "train['totals_pageviews'] = train.totals_pageviews.astype('float')"
   ]
  },
  {
   "cell_type": "code",
   "execution_count": null,
   "metadata": {},
   "outputs": [],
   "source": [
    "def scattertotals(df):\n",
    "    idx = df.totals_transactionRevenue.notnull()\n",
    "    df['totals_hits'] = df.totals_hits.astype('float')\n",
    "    hits = df[idx].groupby('totals_hits').mean().target\n",
    "    newvisit = df[idx].groupby('totals_newVisits').mean().target\n",
    "    pageviews = df[idx].groupby('totals_pageviews').mean().target\n",
    "    \n",
    "    plt.figure(figsize=[10,15])\n",
    "    plt.subplot(3,1,1)\n",
    "    plt.bar(hits.index.values,hits.values,alpha=0.1,facecolor='k')\n",
    "    plt.scatter(df.totals_hits.values,df.target.values,s=0.1,c='salmon')\n",
    "    plt.ylim([14,22])\n",
    "    plt.xlim([0,100])\n",
    "    return None\n",
    "\n",
    "scattertotals(train)"
   ]
  },
  {
   "cell_type": "markdown",
   "metadata": {},
   "source": [
    "### trafficSource"
   ]
  },
  {
   "cell_type": "code",
   "execution_count": null,
   "metadata": {},
   "outputs": [],
   "source": [
    "train.iloc[:,21:34].head()"
   ]
  },
  {
   "cell_type": "code",
   "execution_count": null,
   "metadata": {},
   "outputs": [],
   "source": [
    "train.drop(['trafficSource_campaignCode'],axis=1,inplace=True)"
   ]
  },
  {
   "cell_type": "markdown",
   "metadata": {},
   "source": [
    "## 探索Nan的分布"
   ]
  },
  {
   "cell_type": "code",
   "execution_count": null,
   "metadata": {},
   "outputs": [],
   "source": [
    "col2 = ['trafficSource_adContent',\n",
    "       'trafficSource_adwordsClickInfo.adNetworkType',\n",
    "       'trafficSource_adwordsClickInfo.gclId',\n",
    "       'trafficSource_isTrueDirect', \n",
    "        'trafficSource_keyword',\n",
    "        'trafficSource_referralPath']\n",
    "\n",
    "col = ['adContent',\n",
    "       'adNetworkType',\n",
    "       'gclId',\n",
    "       'isTrueDirect', \n",
    "       'keyword',\n",
    "       'referralPath']\n",
    "\n",
    "num = []\n",
    "for i in col2:\n",
    "    for j in col2:\n",
    "        idx = train[i].notnull() & train[j].notnull()\n",
    "        num.append(sum(idx))\n",
    "data = np.array(num).reshape(6,6)\n",
    "\n",
    "df = pd.DataFrame(data=data,columns=col,index=col)\n",
    "df"
   ]
  },
  {
   "cell_type": "markdown",
   "metadata": {},
   "source": [
    "### 结论：我对上述几项进行了两两对比，并且与channelgroup等项进行了对比，发现：      \n",
    "1. referralPath项，只有当medium为referral时，才有值      \n",
    "2. campaignCode：11251kjhkvahf    \n",
    "3. adContent项是google广告中出现的词，将近一半与ClickInfo类，campaign，gclId有交集，但是是哪一半？啊，我们找到了一些，如果广告词中出现了'google'那么这两项的值就是共同存在的      \n",
    "4. Clickinfo 类与campaign，gclId的值域基本重合，并且每一个都有关键词   \n",
    "5. gclId项是google 点击 ID.   \n",
    "6. 如果您服务器上的网址重写引擎更改了自动标记 gclid 值的大小写，如将 gclid=TeSter 改写为全部小写的 gclid=tester，则 Google Analytics（分析）会无法确定哪次 Google Ads 点击与哪个会话相关。如果存在任何 gclid 参数，那么系统会将数据来源识别为 source=google 和 medium=cpc，但所有其他特定于点击的数据（例如广告系列、广告组、关键字等）将在 Google Analytics（分析）报告中显示为 (not set)。   \n",
    "7. gclid 与 channelGroup 中的Paid Search 高度重合，所有data如果存在gclid 那么必然来源于 付费搜索，这也就解释了为什么referralPath不与其他项相交，因为referralPath 必然来源于 referral和social。"
   ]
  },
  {
   "cell_type": "markdown",
   "metadata": {},
   "source": [
    "## 探索train.trafficSource值之间的关系"
   ]
  },
  {
   "cell_type": "code",
   "execution_count": null,
   "metadata": {},
   "outputs": [],
   "source": [
    "train.columns[21:33]"
   ]
  },
  {
   "cell_type": "code",
   "execution_count": null,
   "metadata": {},
   "outputs": [],
   "source": [
    "idx1 = train.channelGrouping != 'Direct'\n",
    "idx2 =  train.trafficSource_isTrueDirect.notnull()\n",
    "idx = idx1 & idx2\n",
    "print(sum(idx),sum(idx1),sum(idx2),sum(train.channelGrouping=='Referral'))\n",
    "print(train.channelGrouping.value_counts())\n",
    "print(train.trafficSource_medium.value_counts())"
   ]
  },
  {
   "cell_type": "code",
   "execution_count": null,
   "metadata": {},
   "outputs": [],
   "source": [
    "idx = train.trafficSource_isTrueDirect.notnull()\n",
    "train[idx].channelGrouping.value_counts()"
   ]
  },
  {
   "cell_type": "markdown",
   "metadata": {},
   "source": [
    "### 结论：\n",
    "1. medium项与channelgroup高度重合，只是medium中的referral在Organic Search中被拆分成了Social与Direct，所以建议删除trafficSource_medium\n",
    "2. 可以删除trafficSource_adwordsClickInfo.isVideoAd，因为没有意义\n",
    "3. 可以删除trafficSource_adwordsClickInfo.adNetworkType，没啥意义\n",
    "4. 可以删除trafficSource_adwordsClickInfo.page 和 trafficSource_adwordsClickInfo.slot ，也没啥意义\n",
    "5. 建议删除trafficSource_keyword，trafficSource_campaign，还是没啥意义\n",
    "\n",
    "### 所以我们剩下什么了？\n",
    "1. 'trafficSource_adContent'：只有cahnnelgrouping 为Paid Search时才有值，并且出项google时便会拥有一个gclid   \n",
    "2. 'trafficSource_adwordsClickInfo.gclId'：我还没想出怎么去利用这一串乱码，并且只有cahnnelgrouping 为Paid Search时才有值，并且一个fullVisitorId只对应一个gclid,其实吧，可以吧是否存在gclid作为一个feature，然后把这个删掉。。。\n",
    "#### important! \n",
    "3. 'trafficSource_isTrueDirect'：如果会话的来源是“Direct”（表示用户在浏览器中输入了您网站网址的名称或是通过书签访问了您的网站），则为 True；如果 2 个连续但不同的会话具有完全相同的广告系列详细信息，则此字段也为 true。否则为 NULL。所以，我们可以把这两种情况区分开。\n",
    "4. 'trafficSource_referralPath' ：如果 trafficSource.medium 为“referral”，则此值为引荐来源网址的路径。（引荐来源网址的主机名包含在 trafficSource.source 中。）只有cahnnelgrouping 为 referral 和 Social 的这一项才有值，我们似乎可以从这里也找到一些出国别之类或者习惯之类的信息。  \n",
    "5. 'trafficSource_source'：流量来源。可以是搜索引擎的名称、引荐来源网址的主机名或 utm_source 网址参数的一个值。"
   ]
  },
  {
   "cell_type": "code",
   "execution_count": null,
   "metadata": {},
   "outputs": [],
   "source": [
    "idx = (train.trafficSource_isTrueDirect.notnull()) & (train.channelGrouping != 'Direct') \n",
    "idx2 = train.totals_transactionRevenue.notnull()\n",
    "print(train[idx].channelGrouping.value_counts())\n",
    "print(sum(idx),sum(idx & idx2))"
   ]
  },
  {
   "cell_type": "markdown",
   "metadata": {},
   "source": [
    "### 新的特征：\n",
    "我们现在可以创建一个新的特征，当istrueDirect不为空，channelgrouping不为direct，totoals_bounces为0，创建新特征 isTrueDirect ，这个特征貌似有非常好的效果。\n",
    "并且，我们可以把trafficSource_source 和 trafficSource_referralPath 拼接起来。组成一个新的特征 path。"
   ]
  },
  {
   "cell_type": "code",
   "execution_count": null,
   "metadata": {},
   "outputs": [],
   "source": [
    "train['path'] = train.trafficSource_source +  train.trafficSource_referralPath.fillna('') "
   ]
  },
  {
   "cell_type": "code",
   "execution_count": null,
   "metadata": {
    "scrolled": true
   },
   "outputs": [],
   "source": [
    "idx = train.totals_transactionRevenue.notnull()\n",
    "\n",
    "for i in train.columns[21:33]:\n",
    "    print('\\n',\n",
    "          train[i].value_counts(),\n",
    "          '\\n',\n",
    "          'len is: ', train[i].value_counts().shape[0],\n",
    "          'Num is: ',sum(train[i].notnull()),\n",
    "          'Nan is: ',sum(train[i].isnull()),\n",
    "          '\\n',\n",
    "          '-'*80,\n",
    "          '\\n',\n",
    "          train[idx][i].value_counts(),      \n",
    "          '\\n',\n",
    "          'len is: ',train[idx][i].value_counts().shape[0],\n",
    "          'Num is: ',sum(train[idx][i].notnull()),\n",
    "          'Nan is: ',sum(train[idx][i].isnull()),\n",
    "          '\\n',\n",
    "          '*'*80)"
   ]
  },
  {
   "cell_type": "code",
   "execution_count": null,
   "metadata": {
    "scrolled": true
   },
   "outputs": [],
   "source": [
    "idx = train['trafficSource_adwordsClickInfo.slot'] == 'RHS'\n",
    "train[idx].date"
   ]
  },
  {
   "cell_type": "code",
   "execution_count": null,
   "metadata": {
    "scrolled": false
   },
   "outputs": [],
   "source": [
    "idx = train.totals_transactionRevenue.notnull()\n",
    "\n",
    "print(\n",
    "    train.path.value_counts()[0:10],\n",
    "    'Num is: ',sum(train[i].notnull()),\n",
    "    '\\n','*'*40,'\\n',\n",
    "    train[idx].path.value_counts()[0:10],\n",
    "    'Num is: ',sum(train[idx][i].notnull()),\n",
    ")"
   ]
  },
  {
   "cell_type": "markdown",
   "metadata": {},
   "source": [
    "### 建议：\n",
    "去掉 trafficSource_source 和 trafficSource_referralPath "
   ]
  },
  {
   "cell_type": "code",
   "execution_count": 5,
   "metadata": {},
   "outputs": [],
   "source": [
    "adcontentidx = train.trafficSource_adContent == 'Google Merchandise Collection'\n",
    "train['day'] = train.date.apply(lambda t: t.dayofyear)\n",
    "num = train[adcontentidx].day.value_counts()"
   ]
  },
  {
   "cell_type": "code",
   "execution_count": 6,
   "metadata": {
    "scrolled": true
   },
   "outputs": [],
   "source": [
    "def isgooglemc(day,numb):\n",
    "    if day in numb.index.values:\n",
    "        val = numb[day]\n",
    "    else:\n",
    "        val = 0\n",
    "    return val"
   ]
  },
  {
   "cell_type": "code",
   "execution_count": 7,
   "metadata": {},
   "outputs": [],
   "source": [
    "a = train.day.apply(isgooglemc,args=[num])"
   ]
  },
  {
   "cell_type": "code",
   "execution_count": 16,
   "metadata": {
    "scrolled": true
   },
   "outputs": [
    {
     "data": {
      "text/plain": [
       "(382600,)"
      ]
     },
     "execution_count": 16,
     "metadata": {},
     "output_type": "execute_result"
    }
   ],
   "source": [
    "a[a!=0].shape"
   ]
  }
 ],
 "metadata": {
  "kernelspec": {
   "display_name": "Python 3",
   "language": "python",
   "name": "python3"
  },
  "language_info": {
   "codemirror_mode": {
    "name": "ipython",
    "version": 3
   },
   "file_extension": ".py",
   "mimetype": "text/x-python",
   "name": "python",
   "nbconvert_exporter": "python",
   "pygments_lexer": "ipython3",
   "version": "3.6.6"
  }
 },
 "nbformat": 4,
 "nbformat_minor": 2
}
