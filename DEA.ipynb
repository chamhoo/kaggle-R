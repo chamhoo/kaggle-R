{
 "cells": [
  {
   "cell_type": "code",
   "execution_count": null,
   "metadata": {},
   "outputs": [],
   "source": [
    "import numpy as np\n",
    "import pandas as pd\n",
    "import os\n",
    "import time\n",
    "import json\n",
    "from pandas.io.json import json_normalize\n",
    "from sklearn.preprocessing import LabelEncoder\n",
    "import matplotlib.pyplot as plt\n",
    "%matplotlib inline\n",
    "import seaborn as sns\n",
    "\n",
    "import warnings\n",
    "warnings.filterwarnings('ignore')"
   ]
  },
  {
   "cell_type": "markdown",
   "metadata": {},
   "source": [
    "### 第一步，我们先把json格式展开"
   ]
  },
  {
   "cell_type": "code",
   "execution_count": null,
   "metadata": {},
   "outputs": [],
   "source": [
    "def load_df(csv_path, nrows=None):\n",
    "    JSON_COLUMNS = ['device', 'geoNetwork', 'totals', 'trafficSource']\n",
    "    \n",
    "    df = pd.read_csv(csv_path, \n",
    "                     converters={column: json.loads for column in JSON_COLUMNS}, \n",
    "                     dtype={'fullVisitorId': 'str'}, # Important!!\n",
    "                     nrows=nrows)\n",
    "    \n",
    "    for column in JSON_COLUMNS:\n",
    "        column_as_df = json_normalize(df[column])\n",
    "        column_as_df.columns = [f\"{column}_{subcolumn}\" for subcolumn in column_as_df.columns]\n",
    "        df = df.drop(column, axis=1).merge(column_as_df, right_index=True, left_index=True)\n",
    "    print(f\"Loaded {os.path.basename(csv_path)}. Shape: {df.shape}\")\n",
    "    return df"
   ]
  },
  {
   "cell_type": "code",
   "execution_count": null,
   "metadata": {},
   "outputs": [],
   "source": [
    "train = load_df('/home/leechh/data/R/train.csv')"
   ]
  },
  {
   "cell_type": "code",
   "execution_count": null,
   "metadata": {},
   "outputs": [],
   "source": [
    "train.head(5)"
   ]
  },
  {
   "cell_type": "code",
   "execution_count": null,
   "metadata": {},
   "outputs": [],
   "source": [
    "def dfbar(df, feature, top=-1):\n",
    "    value_count1 = train[feature].value_counts(dropna=True,normalize=True)\n",
    "    plt.figure(figsize=[15,5])\n",
    "    value_count1[0:top].plot(kind='bar',grid=True)\n",
    "    plt.title(f'Group by {feature},{sum(train[feature].isnull())} NaN data')\n",
    "    plt.show()\n",
    "    return None\n"
   ]
  },
  {
   "cell_type": "markdown",
   "metadata": {},
   "source": [
    "### channelGrouping "
   ]
  },
  {
   "cell_type": "code",
   "execution_count": null,
   "metadata": {},
   "outputs": [],
   "source": [
    "channel = train.channelGrouping.value_counts(dropna=True,normalize=True)\n",
    "plt.figure(figsize=[15,5])\n",
    "plt.subplot(1,2,1)\n",
    "plt.barh(np.arange(channel.shape[0])+1,\n",
    "         channel.values,\n",
    "         alpha=0.3,\n",
    "         facecolor='k',edgecolor='b',\n",
    "         tick_label=channel.index.values)\n",
    "plt.title(f'Group by channelGrouping,{sum(train.channelGrouping.isnull())} NaN data')\n",
    "\n",
    "plt.subplot(1,2,2)\n",
    "idx = train.totals_transactionRevenue != 0 \n",
    "channel2 = train[idx].channelGrouping.value_counts(dropna=True,normalize=False)\n",
    "plt.barh(np.arange(channel2.shape[0])+1,\n",
    "         channel2.values,\n",
    "         alpha=0.3,\n",
    "         facecolor='k',edgecolor='b',\n",
    "         tick_label=channel.index.values)\n",
    "plt.title(f'Group by channelGrouping,{sum(train.channelGrouping.isnull())} NaN data')\n",
    "\n",
    "plt.show()"
   ]
  },
  {
   "cell_type": "code",
   "execution_count": null,
   "metadata": {},
   "outputs": [],
   "source": [
    "idx = train.totals_transactionRevenue != 0 \n"
   ]
  },
  {
   "cell_type": "markdown",
   "metadata": {},
   "source": [
    "### 我觉得seesionId 应该就是fullvisitId 与 visitId 的结合，验证以下，如果是的话，我们就可以把 这个features去掉了。"
   ]
  },
  {
   "cell_type": "code",
   "execution_count": null,
   "metadata": {},
   "outputs": [],
   "source": [
    "print('fullvisitId sess diff:',sum(train.sessionId.str.split('_',expand=True)[0] != train.fullVisitorId))\n",
    "print('visitId sess diff:',sum(train.sessionId.str.split('_',expand=True)[1] != train.visitId.astype('str')))"
   ]
  },
  {
   "cell_type": "code",
   "execution_count": null,
   "metadata": {},
   "outputs": [],
   "source": [
    "train.drop(['sessionId'],axis=1,inplace=True)"
   ]
  },
  {
   "cell_type": "markdown",
   "metadata": {},
   "source": [
    "### 接下来，把时间date转化为时间格式"
   ]
  },
  {
   "cell_type": "code",
   "execution_count": null,
   "metadata": {},
   "outputs": [],
   "source": [
    "train['date'] = pd.to_datetime(train.date,format='%Y%m%d')"
   ]
  },
  {
   "cell_type": "markdown",
   "metadata": {},
   "source": [
    "### socialEngagementType"
   ]
  },
  {
   "cell_type": "code",
   "execution_count": null,
   "metadata": {},
   "outputs": [],
   "source": [
    "idx = (train.socialEngagementType != 'Not Socially Engaged')\n",
    "sum(idx)"
   ]
  },
  {
   "cell_type": "code",
   "execution_count": null,
   "metadata": {},
   "outputs": [],
   "source": [
    "train.drop(['socialEngagementType'], axis=1, inplace=True)"
   ]
  },
  {
   "cell_type": "code",
   "execution_count": null,
   "metadata": {},
   "outputs": [],
   "source": [
    "train.head()"
   ]
  },
  {
   "cell_type": "markdown",
   "metadata": {},
   "source": [
    "### visitNumber"
   ]
  },
  {
   "cell_type": "code",
   "execution_count": null,
   "metadata": {},
   "outputs": [],
   "source": [
    "dfbar(train,'visitNumber',top=30)"
   ]
  },
  {
   "cell_type": "markdown",
   "metadata": {},
   "source": [
    "我们可以看到，visitNumber及其不平衡，大多数为1，由kaggle官方提供的说明，If this is the first session, then this is set to 1，所以大多数都是用户初次访问"
   ]
  },
  {
   "cell_type": "markdown",
   "metadata": {},
   "source": [
    "### visitStartTime\n",
    "The timestamp (expressed as POSIX time)， so we convert it to a pd.datatime"
   ]
  },
  {
   "cell_type": "code",
   "execution_count": null,
   "metadata": {},
   "outputs": [],
   "source": [
    "def totime(t):\n",
    "    year = time.localtime(t)[0]\n",
    "    month = time.localtime(t)[1]\n",
    "    day = time.localtime(t)[2]\n",
    "    hour = time.localtime(t)[3]\n",
    "    minute = time.localtime(t)[4]\n",
    "    second = time.localtime(t)[5]\n",
    "    return pd.Timestamp(year,month,day,hour,minute,second)\n",
    "\n",
    "\n",
    "train['visitStartTime'] = train.visitStartTime.map(totime)"
   ]
  },
  {
   "cell_type": "markdown",
   "metadata": {},
   "source": [
    "### 去掉重复features"
   ]
  },
  {
   "cell_type": "code",
   "execution_count": null,
   "metadata": {},
   "outputs": [],
   "source": [
    "for i in train.columns:\n",
    "    if sum(train[i] == train[i][0]) == train.shape[0]:\n",
    "        train.drop([i], axis=1, inplace=True)"
   ]
  },
  {
   "cell_type": "code",
   "execution_count": null,
   "metadata": {},
   "outputs": [],
   "source": [
    "train.shape"
   ]
  },
  {
   "cell_type": "markdown",
   "metadata": {},
   "source": [
    "### device"
   ]
  },
  {
   "cell_type": "code",
   "execution_count": null,
   "metadata": {},
   "outputs": [],
   "source": [
    "train.iloc[:,6:10].head()"
   ]
  },
  {
   "cell_type": "code",
   "execution_count": null,
   "metadata": {},
   "outputs": [],
   "source": [
    "# 我们去掉device_isMobile\n",
    "train.drop(['device_isMobile'], axis=1, inplace=True)"
   ]
  },
  {
   "cell_type": "markdown",
   "metadata": {},
   "source": [
    "我们可以看到device_operatingSystem 有较多(not set)项目 ，我们前期可以先去掉这些数据，在后期可以用机器学习的方法找到其真实值"
   ]
  },
  {
   "cell_type": "code",
   "execution_count": null,
   "metadata": {},
   "outputs": [],
   "source": [
    "dfbar(train, 'device_browser')"
   ]
  },
  {
   "cell_type": "code",
   "execution_count": null,
   "metadata": {},
   "outputs": [],
   "source": [
    "plt.figure(figsize=[15,5])\n",
    "value_count2 = train['device_deviceCategory'].value_counts(dropna=False,normalize=False)\n",
    "value_count3 = train['device_operatingSystem'].value_counts(dropna=False,normalize=False)\n",
    "plt.subplot(1,2,1)\n",
    "value_count2.plot(kind='bar')\n",
    "plt.subplot(1,2,2)\n",
    "value_count3.plot(kind='bar')\n",
    "plt.show()"
   ]
  },
  {
   "cell_type": "markdown",
   "metadata": {},
   "source": [
    "### geoNetwork"
   ]
  },
  {
   "cell_type": "code",
   "execution_count": null,
   "metadata": {},
   "outputs": [],
   "source": [
    "train.iloc[:,9:16].head()"
   ]
  },
  {
   "cell_type": "code",
   "execution_count": null,
   "metadata": {},
   "outputs": [],
   "source": [
    "n = 1\n",
    "for i in train.columns[9:16]:\n",
    "    plt.subplot(7,1,n)\n",
    "    value_count1 = train[i].value_counts(dropna=True,normalize=True)\n",
    "    value_count1[0:10].plot(kind='barh',grid=True,figsize=[8,30])\n",
    "    plt.title(f'Group by {i},{sum(train[i].isnull())} NaN data')\n",
    "    n = n + 1\n",
    "plt.show()\n"
   ]
  },
  {
   "cell_type": "code",
   "execution_count": null,
   "metadata": {},
   "outputs": [],
   "source": [
    "train.fullVisitorId.nunique()"
   ]
  },
  {
   "cell_type": "markdown",
   "metadata": {},
   "source": [
    "### totals"
   ]
  },
  {
   "cell_type": "code",
   "execution_count": null,
   "metadata": {},
   "outputs": [],
   "source": [
    "train.iloc[:,16:21].head()"
   ]
  },
  {
   "cell_type": "code",
   "execution_count": null,
   "metadata": {},
   "outputs": [],
   "source": [
    "train['totals_bounces'] = train.totals_bounces.fillna(0)\n",
    "train['totals_newVisits'] = train.totals_newVisits.fillna(0)\n",
    "train['totals_transactionRevenue'] = train.totals_transactionRevenue.fillna(0)"
   ]
  },
  {
   "cell_type": "code",
   "execution_count": null,
   "metadata": {},
   "outputs": [],
   "source": [
    "plt.figure(figsize=[15,5])\n",
    "plt.subplot(1,2,1)\n",
    "bounces = train.totals_bounces.value_counts(normalize=True)\n",
    "plt.bar(np.arange(bounces.shape[0]),\n",
    "        bounces.values,\n",
    "        width=0.2,\n",
    "        alpha=0.3,\n",
    "        facecolor='K',\n",
    "        edgecolor='b',\n",
    "        lw=1)\n",
    "plt.title('Bounces count')\n",
    "plt.ylabel('Percentage')\n",
    "\n",
    "plt.subplot(1,2,2)\n",
    "idx = train.totals_transactionRevenue != 0 \n",
    "bounces = train.totals_bounces[idx].value_counts(normalize=True)\n",
    "plt.bar(np.arange(bounces.shape[0]),\n",
    "        bounces.values,\n",
    "        width=0.2,\n",
    "        alpha=0.3,\n",
    "        facecolor='K',\n",
    "        edgecolor='b',\n",
    "        lw=1)\n",
    "plt.title('Bounces count have Revenue')\n",
    "plt.ylabel('Percentage')\n",
    "\n"
   ]
  },
  {
   "cell_type": "code",
   "execution_count": null,
   "metadata": {},
   "outputs": [],
   "source": [
    "bounces = train.totals_bounces.value_counts(normalize=True)\n",
    "bounces.index.values"
   ]
  },
  {
   "cell_type": "code",
   "execution_count": null,
   "metadata": {},
   "outputs": [],
   "source": [
    "for i in train.columns[16:21]:\n",
    "    dfbar(train,i,top=30)"
   ]
  },
  {
   "cell_type": "markdown",
   "metadata": {},
   "source": [
    "### trafficSource"
   ]
  },
  {
   "cell_type": "code",
   "execution_count": null,
   "metadata": {},
   "outputs": [],
   "source": [
    "train.iloc[:,21:].head()"
   ]
  },
  {
   "cell_type": "code",
   "execution_count": null,
   "metadata": {},
   "outputs": [],
   "source": [
    "for i in train.columns[21:35]:\n",
    "    print('\\n',train.groupby(i).size())"
   ]
  },
  {
   "cell_type": "code",
   "execution_count": null,
   "metadata": {},
   "outputs": [],
   "source": [
    "train.head()"
   ]
  },
  {
   "cell_type": "code",
   "execution_count": null,
   "metadata": {},
   "outputs": [],
   "source": [
    "sum(train['trafficSource_adwordsClickInfo.isVideoAd'].isnull())"
   ]
  },
  {
   "cell_type": "code",
   "execution_count": null,
   "metadata": {},
   "outputs": [],
   "source": []
  }
 ],
 "metadata": {
  "kernelspec": {
   "display_name": "Python 3",
   "language": "python",
   "name": "python3"
  },
  "language_info": {
   "codemirror_mode": {
    "name": "ipython",
    "version": 3
   },
   "file_extension": ".py",
   "mimetype": "text/x-python",
   "name": "python",
   "nbconvert_exporter": "python",
   "pygments_lexer": "ipython3",
   "version": "3.7.0"
  }
 },
 "nbformat": 4,
 "nbformat_minor": 2
}
